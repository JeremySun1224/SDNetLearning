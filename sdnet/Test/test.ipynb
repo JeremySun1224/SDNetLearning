{
 "metadata": {
  "language_info": {
   "codemirror_mode": {
    "name": "ipython",
    "version": 3
   },
   "file_extension": ".py",
   "mimetype": "text/x-python",
   "name": "python",
   "nbconvert_exporter": "python",
   "pygments_lexer": "ipython3",
   "version": "3.6.9-final"
  },
  "orig_nbformat": 2,
  "kernelspec": {
   "name": "python_defaultSpec_1600243253556",
   "display_name": "Python 3.6.9 64-bit ('Torch10': conda)"
  }
 },
 "nbformat": 4,
 "nbformat_minor": 2,
 "cells": [
  {
   "cell_type": "code",
   "execution_count": 2,
   "metadata": {},
   "outputs": [],
   "source": [
    "import torch\n",
    "import re\n",
    "import sys\n",
    "import spacy\n",
    "import unicodedata\n",
    "import numpy as np\n",
    "from torch.autograd import Variable"
   ]
  },
  {
   "cell_type": "code",
   "execution_count": 3,
   "metadata": {},
   "outputs": [
    {
     "output_type": "execute_result",
     "data": {
      "text/plain": "'D:\\\\Anaconda3\\\\envs\\\\Torch10\\\\python.exe'"
     },
     "metadata": {},
     "execution_count": 3
    }
   ],
   "source": [
    "sys.executable"
   ]
  },
  {
   "cell_type": "code",
   "execution_count": 4,
   "metadata": {},
   "outputs": [
    {
     "output_type": "execute_result",
     "data": {
      "text/plain": "'1.0.1'"
     },
     "metadata": {},
     "execution_count": 4
    }
   ],
   "source": [
    "torch.__version__"
   ]
  },
  {
   "cell_type": "code",
   "execution_count": 5,
   "metadata": {},
   "outputs": [],
   "source": [
    "use_cuda = ['GPU:0' if torch.cuda.is_available() else 'CPU']"
   ]
  },
  {
   "cell_type": "code",
   "execution_count": 4,
   "metadata": {},
   "outputs": [],
   "source": [
    "nlp = spacy.load('en_core_web_sm', parser=False)"
   ]
  },
  {
   "cell_type": "code",
   "execution_count": 5,
   "metadata": {},
   "outputs": [],
   "source": [
    "# nlp.tagger.labels"
   ]
  },
  {
   "cell_type": "code",
   "execution_count": 6,
   "metadata": {},
   "outputs": [],
   "source": [
    "# {w: i for i, w in enumerate([''] + list(nlp.tagger.labels))}"
   ]
  },
  {
   "cell_type": "code",
   "execution_count": 7,
   "metadata": {},
   "outputs": [],
   "source": [
    "# {w: i for i, w in enumerate([''] + list(nlp.entity.move_names))}"
   ]
  },
  {
   "cell_type": "code",
   "execution_count": 8,
   "metadata": {},
   "outputs": [],
   "source": [
    "sentence='Beijing like NLP.'"
   ]
  },
  {
   "cell_type": "code",
   "execution_count": 9,
   "metadata": {
    "tags": []
   },
   "outputs": [
    {
     "output_type": "execute_result",
     "data": {
      "text/plain": "Beijing like NLP."
     },
     "metadata": {},
     "execution_count": 9
    }
   ],
   "source": [
    "raw_tokens = nlp(sentence); raw_tokens"
   ]
  },
  {
   "cell_type": "code",
   "execution_count": 10,
   "metadata": {
    "tags": []
   },
   "outputs": [
    {
     "output_type": "stream",
     "name": "stdout",
     "text": "Beijing||FalseFalseGPENNP\nlike||FalseFalseIN\nNLP||FalseFalseORGNNP\n.||TrueFalse.\n"
    }
   ],
   "source": [
    "for token in raw_tokens:\n",
    "    print(token, '||', token.is_punct, token.is_space, token.ent_type_, token.tag_)"
   ]
  },
  {
   "cell_type": "code",
   "execution_count": 11,
   "metadata": {},
   "outputs": [
    {
     "output_type": "execute_result",
     "data": {
      "text/plain": "array([[ 0.79698305,  0.83702857, -0.80461536,  0.55461405,  0.48790577],\n       [-0.94797244,  0.48171392, -0.46968296, -0.31926014,  0.29292209],\n       [-0.91648382,  0.73219536, -0.65105157,  0.60447115,  0.62223631],\n       [-0.96032186, -0.52267581,  0.12606397, -0.43089066, -0.9127302 ],\n       [-0.30685928, -0.36128405,  0.10142948, -0.60657699, -0.52494669]])"
     },
     "metadata": {},
     "execution_count": 11
    }
   ],
   "source": [
    "np.random.uniform(-1, 1, size=(5, 5))"
   ]
  },
  {
   "cell_type": "code",
   "execution_count": 12,
   "metadata": {},
   "outputs": [],
   "source": [
    "test = [x for x in range(1, 11)]"
   ]
  },
  {
   "cell_type": "code",
   "execution_count": 13,
   "metadata": {},
   "outputs": [
    {
     "output_type": "execute_result",
     "data": {
      "text/plain": "[1, 2, 3, 4, 5, 6, 7, 8]"
     },
     "metadata": {},
     "execution_count": 13
    }
   ],
   "source": [
    "test[0: -2]"
   ]
  },
  {
   "cell_type": "code",
   "execution_count": 14,
   "metadata": {},
   "outputs": [],
   "source": [
    "# -2只是索引位置"
   ]
  },
  {
   "cell_type": "code",
   "execution_count": 15,
   "metadata": {
    "tags": []
   },
   "outputs": [],
   "source": [
    "def char2id_sent(sent, c2id, unk_id=None, to_lower=False):\n",
    "    if to_lower:\n",
    "        sent = sent.lower()\n",
    "    cids = [[c2id['<STA>'] + [c2id[c] if c in c2id else unk_id for c in w] + [c2id['<END>']]] for w in sent]\n",
    "    return cids"
   ]
  },
  {
   "cell_type": "code",
   "execution_count": 16,
   "metadata": {},
   "outputs": [],
   "source": [
    "from collections import Counter"
   ]
  },
  {
   "cell_type": "code",
   "execution_count": 17,
   "metadata": {},
   "outputs": [],
   "source": [
    "context = \"Don't break my heart.\""
   ]
  },
  {
   "cell_type": "code",
   "execution_count": 18,
   "metadata": {},
   "outputs": [],
   "source": [
    "doc = nlp(context)"
   ]
  },
  {
   "cell_type": "code",
   "execution_count": 31,
   "metadata": {
    "tags": []
   },
   "outputs": [
    {
     "output_type": "stream",
     "name": "stdout",
     "text": "Do do\nn't not\nbreak break\nmy -PRON-\nheart heart\n. .\n"
    }
   ],
   "source": []
  },
  {
   "cell_type": "code",
   "execution_count": 19,
   "metadata": {},
   "outputs": [],
   "source": [
    "lemma = {token.lemma_ if token.lemma_ != '-PRON-' else token.text.lower() for token in doc}"
   ]
  },
  {
   "cell_type": "code",
   "execution_count": 20,
   "metadata": {},
   "outputs": [
    {
     "output_type": "execute_result",
     "data": {
      "text/plain": "{'.', 'break', 'do', 'heart', 'my', 'not'}"
     },
     "metadata": {},
     "execution_count": 20
    }
   ],
   "source": [
    "lemma"
   ]
  },
  {
   "cell_type": "code",
   "execution_count": 21,
   "metadata": {},
   "outputs": [],
   "source": [
    "lemma_ = {token.text.lower() for token in doc}  # 未拿回单词原型"
   ]
  },
  {
   "cell_type": "code",
   "execution_count": 22,
   "metadata": {},
   "outputs": [
    {
     "output_type": "execute_result",
     "data": {
      "text/plain": "{'.', 'break', 'do', 'heart', 'my', \"n't\"}"
     },
     "metadata": {},
     "execution_count": 22
    }
   ],
   "source": [
    "lemma_"
   ]
  },
  {
   "cell_type": "code",
   "execution_count": 23,
   "metadata": {},
   "outputs": [],
   "source": [
    "_lemma = {token.lemma_ for token in doc}"
   ]
  },
  {
   "cell_type": "code",
   "execution_count": 24,
   "metadata": {},
   "outputs": [
    {
     "output_type": "execute_result",
     "data": {
      "text/plain": "{'-PRON-', '.', 'break', 'do', 'heart', 'not'}"
     },
     "metadata": {},
     "execution_count": 24
    }
   ],
   "source": [
    "_lemma"
   ]
  },
  {
   "cell_type": "code",
   "execution_count": 25,
   "metadata": {},
   "outputs": [
    {
     "output_type": "execute_result",
     "data": {
      "text/plain": "{'.', 'Do', 'break', 'heart', 'my', \"n't\"}"
     },
     "metadata": {},
     "execution_count": 25
    }
   ],
   "source": [
    "question_word = {token.text for token in doc}; question_word"
   ]
  },
  {
   "cell_type": "code",
   "execution_count": 26,
   "metadata": {},
   "outputs": [
    {
     "output_type": "execute_result",
     "data": {
      "text/plain": "{'.', 'break', 'do', 'heart', 'my', 'not'}"
     },
     "metadata": {},
     "execution_count": 26
    }
   ],
   "source": [
    "question_lemma = {token.lemma_ if token.lemma_ != '-PRON-' else token.text for token in doc}; question_lemma"
   ]
  },
  {
   "cell_type": "code",
   "execution_count": 27,
   "metadata": {},
   "outputs": [
    {
     "output_type": "execute_result",
     "data": {
      "text/plain": "[True, True, True, True, True, True]"
     },
     "metadata": {},
     "execution_count": 27
    }
   ],
   "source": [
    "match_origin = [token.text in question_word for token in doc]; match_origin"
   ]
  },
  {
   "cell_type": "code",
   "execution_count": 28,
   "metadata": {},
   "outputs": [],
   "source": [
    "def feature_gen(context, question):\n",
    "    counter_ = Counter(w.text.lower() for w in context)\n",
    "    total = sum(counter_.values())\n",
    "    term_freq = [counter_[w.text.lower()] / total for w in context]\n",
    "    question_word = {w.text for w in question}  # 集合\n",
    "    question_lemma = {w.lemma_ if w != '-PRON-' else w.text.lower() for w in question}  # To lemma_, the base form of the word.\n",
    "    match_origin = [w.text in question_word for w in context]\n",
    "    match_lower = [w.text.lower() in question_word for w in context]\n",
    "    match_lemma = [(w.lemma_ if w.lemma_ != '-PRON-' else w.text.lower()) in question_lemma for w in context]\n",
    "    C_features = list(zip(term_freq, match_origin, match_lower, match_lemma))\n",
    "    return C_features"
   ]
  },
  {
   "cell_type": "code",
   "execution_count": 29,
   "metadata": {},
   "outputs": [],
   "source": [
    "context = \"Once there was a beautiful fish named Asta. Asta lived in the ocean. There were lots of other fish in the ocean where Asta lived. They played all day long. \\n\\nOne day, a bottle floated by over the heads of Asta and his friends. They looked up and saw the bottle. \\\"What is it?\\\" said Asta's friend Sharkie. \\\"It looks like a bird's belly,\\\" said Asta. But when they swam closer, it was not a bird's belly. It was hard and clear, and there was something inside it. \\n\\nThe bottle floated above them. They wanted to open it. They wanted to see what was inside. So they caught the bottle and carried it down to the bottom of the ocean. They cracked it open on a rock. When they got it open, they found what was inside. It was a note. The note was written in orange crayon on white paper. Asta could not read the note. Sharkie could not read the note. They took the note to Asta's papa. \\\"What does it say?\\\" they asked. \\n\\nAsta's papa read the note. He told Asta and Sharkie, \\\"This note is from a little girl. She wants to be your friend. If you want to be her friend, we can write a note to her. But you have to find another bottle so we can send it to her.\\\" And that is what they did.\""
   ]
  },
  {
   "cell_type": "code",
   "execution_count": 30,
   "metadata": {},
   "outputs": [],
   "source": [
    "question = \"what was the name of the fish, What looked like a birds belly\""
   ]
  },
  {
   "cell_type": "code",
   "execution_count": 31,
   "metadata": {},
   "outputs": [],
   "source": [
    "question = nlp(question)"
   ]
  },
  {
   "cell_type": "code",
   "execution_count": 32,
   "metadata": {},
   "outputs": [],
   "source": [
    "context = nlp(context)"
   ]
  },
  {
   "cell_type": "code",
   "execution_count": 33,
   "metadata": {},
   "outputs": [
    {
     "output_type": "execute_result",
     "data": {
      "text/plain": "tensor([[1, 2, 4, 5],\n        [2, 3, 9, 0]])"
     },
     "metadata": {},
     "execution_count": 33
    }
   ],
   "source": [
    "test = torch.tensor([\n",
    "    [1, 2, 4, 5],\n",
    "    [2, 3, 9, 0]\n",
    "]); test"
   ]
  },
  {
   "cell_type": "code",
   "execution_count": 34,
   "metadata": {},
   "outputs": [
    {
     "output_type": "execute_result",
     "data": {
      "text/plain": "torch.Size([2, 4])"
     },
     "metadata": {},
     "execution_count": 34
    }
   ],
   "source": [
    "test.shape"
   ]
  },
  {
   "cell_type": "code",
   "execution_count": 35,
   "metadata": {},
   "outputs": [
    {
     "output_type": "execute_result",
     "data": {
      "text/plain": "tensor([[[1, 2, 4, 5]],\n\n        [[2, 3, 9, 0]]])"
     },
     "metadata": {},
     "execution_count": 35
    }
   ],
   "source": [
    "test_ = test.unsqueeze(1); test_"
   ]
  },
  {
   "cell_type": "code",
   "execution_count": 36,
   "metadata": {},
   "outputs": [
    {
     "output_type": "execute_result",
     "data": {
      "text/plain": "torch.Size([2, 1, 4])"
     },
     "metadata": {},
     "execution_count": 36
    }
   ],
   "source": [
    "test_.shape"
   ]
  },
  {
   "cell_type": "code",
   "execution_count": 37,
   "metadata": {},
   "outputs": [
    {
     "output_type": "execute_result",
     "data": {
      "text/plain": "tensor([[[1, 2, 4, 5]],\n\n        [[2, 3, 9, 0]]])"
     },
     "metadata": {},
     "execution_count": 37
    }
   ],
   "source": [
    "test_"
   ]
  },
  {
   "cell_type": "code",
   "execution_count": 38,
   "metadata": {},
   "outputs": [],
   "source": [
    "# 将张量广播到新形状"
   ]
  },
  {
   "cell_type": "code",
   "execution_count": 39,
   "metadata": {},
   "outputs": [
    {
     "output_type": "execute_result",
     "data": {
      "text/plain": "tensor([[[1, 2, 4, 5],\n         [1, 2, 4, 5]],\n\n        [[2, 3, 9, 0],\n         [2, 3, 9, 0]]])"
     },
     "metadata": {},
     "execution_count": 39
    }
   ],
   "source": [
    "test_.expand([2, 2, 4])"
   ]
  },
  {
   "cell_type": "code",
   "execution_count": 40,
   "metadata": {},
   "outputs": [
    {
     "output_type": "execute_result",
     "data": {
      "text/plain": "tensor([[1, 2, 3, 4],\n        [5, 6, 7, 8]])"
     },
     "metadata": {},
     "execution_count": 40
    }
   ],
   "source": [
    "test_1 = torch.arange(1, 9).resize_(2, 4); test_1"
   ]
  },
  {
   "cell_type": "code",
   "execution_count": 41,
   "metadata": {},
   "outputs": [],
   "source": [
    "# 扩展1维"
   ]
  },
  {
   "cell_type": "code",
   "execution_count": 42,
   "metadata": {},
   "outputs": [
    {
     "output_type": "execute_result",
     "data": {
      "text/plain": "tensor([[[1, 2, 3, 4]],\n\n        [[5, 6, 7, 8]]])"
     },
     "metadata": {},
     "execution_count": 42
    }
   ],
   "source": [
    "test_1.unsqueeze_(1); test_1"
   ]
  },
  {
   "cell_type": "code",
   "execution_count": 43,
   "metadata": {},
   "outputs": [
    {
     "output_type": "execute_result",
     "data": {
      "text/plain": "torch.Size([2, 1, 4])"
     },
     "metadata": {},
     "execution_count": 43
    }
   ],
   "source": [
    "test_1.shape"
   ]
  },
  {
   "cell_type": "code",
   "execution_count": 44,
   "metadata": {},
   "outputs": [],
   "source": [
    "# expand"
   ]
  },
  {
   "cell_type": "code",
   "execution_count": 45,
   "metadata": {},
   "outputs": [
    {
     "output_type": "execute_result",
     "data": {
      "text/plain": "tensor([[[1, 2, 3, 4],\n         [1, 2, 3, 4]],\n\n        [[5, 6, 7, 8],\n         [5, 6, 7, 8]]])"
     },
     "metadata": {},
     "execution_count": 45
    }
   ],
   "source": [
    "test_2 = test_1.expand([2, 2, 4]); test_2"
   ]
  },
  {
   "cell_type": "code",
   "execution_count": 46,
   "metadata": {
    "tags": []
   },
   "outputs": [
    {
     "output_type": "stream",
     "name": "stdout",
     "text": "torch.Size([2, 1, 4])torch.Size([2, 2, 4])\n"
    }
   ],
   "source": [
    "print(test_1.shape, test_2.shape)"
   ]
  },
  {
   "cell_type": "code",
   "execution_count": 47,
   "metadata": {},
   "outputs": [
    {
     "output_type": "execute_result",
     "data": {
      "text/plain": "tensor([1, 2, 3, 4])"
     },
     "metadata": {},
     "execution_count": 47
    }
   ],
   "source": [
    "v1 = torch.arange(1, 5); v1"
   ]
  },
  {
   "cell_type": "code",
   "execution_count": 48,
   "metadata": {},
   "outputs": [
    {
     "output_type": "execute_result",
     "data": {
      "text/plain": "tensor([1, 2, 3])"
     },
     "metadata": {},
     "execution_count": 48
    }
   ],
   "source": [
    "v2 = torch.arange(1, 4); v2"
   ]
  },
  {
   "cell_type": "code",
   "execution_count": 49,
   "metadata": {},
   "outputs": [
    {
     "output_type": "execute_result",
     "data": {
      "text/plain": "tensor([[ 1,  2,  3],\n        [ 2,  4,  6],\n        [ 3,  6,  9],\n        [ 4,  8, 12]])"
     },
     "metadata": {},
     "execution_count": 49
    }
   ],
   "source": [
    "torch.ger(v1, v2)"
   ]
  },
  {
   "cell_type": "code",
   "execution_count": 50,
   "metadata": {},
   "outputs": [
    {
     "output_type": "execute_result",
     "data": {
      "text/plain": "torch.Size([4, 3])"
     },
     "metadata": {},
     "execution_count": 50
    }
   ],
   "source": [
    "torch.ger(v1, v2).shape  # v1的转置乘以v2"
   ]
  },
  {
   "cell_type": "code",
   "execution_count": 51,
   "metadata": {},
   "outputs": [],
   "source": [
    "# 外积结果为张量，内积结果为标量"
   ]
  },
  {
   "cell_type": "code",
   "execution_count": 52,
   "metadata": {},
   "outputs": [
    {
     "output_type": "execute_result",
     "data": {
      "text/plain": "tensor([[1, 2, 3],\n        [0, 4, 6],\n        [0, 0, 9],\n        [0, 0, 0]])"
     },
     "metadata": {},
     "execution_count": 52
    }
   ],
   "source": [
    "test_triu = torch.ger(v1, v2).triu(); test_triu"
   ]
  },
  {
   "cell_type": "code",
   "execution_count": 53,
   "metadata": {},
   "outputs": [
    {
     "output_type": "execute_result",
     "data": {
      "text/plain": "tensor([[[0, 0, 0],\n         [1, 0, 0],\n         [1, 1, 0],\n         [1, 1, 1]]], dtype=torch.uint8)"
     },
     "metadata": {},
     "execution_count": 53
    }
   ],
   "source": [
    "test_triu = test_triu.eq(0).unsqueeze(0); test_triu"
   ]
  },
  {
   "cell_type": "code",
   "execution_count": 61,
   "metadata": {},
   "outputs": [],
   "source": [
    "# indices = list(range(len(context))); indices"
   ]
  },
  {
   "cell_type": "code",
   "execution_count": 62,
   "metadata": {},
   "outputs": [],
   "source": [
    "import random"
   ]
  },
  {
   "cell_type": "code",
   "execution_count": 64,
   "metadata": {},
   "outputs": [],
   "source": [
    "def bertify(self, words):\n",
    "    if self.bert_tokenizer is None:\n",
    "        return None\n",
    "    bpe = ['[CLS]']\n",
    "    x_bert_offsets = []\n",
    "    for word in words:\n",
    "        now = self.bert_tokenizer.tokenize(word)\n",
    "        x_bert_offsets.append([len(bpe), len(bpe) + len(now)])\n",
    "        bpe.extend(now)\n",
    "    bpe.append('[SEP]')\n",
    "    x_bert = self.bert_tokenizer.convert_tokens_to_ids(bpe)\n",
    "    return x_bert, x_bert_offsets"
   ]
  },
  {
   "cell_type": "code",
   "execution_count": 66,
   "metadata": {},
   "outputs": [
    {
     "output_type": "execute_result",
     "data": {
      "text/plain": "tensor([[0, 0, 0, 0, 0, 0, 0, 0, 0, 0, 0, 0, 0, 0, 0]])"
     },
     "metadata": {},
     "execution_count": 66
    }
   ],
   "source": [
    "x = torch.LongTensor(1, 15).fill_(0); x"
   ]
  },
  {
   "cell_type": "code",
   "execution_count": 69,
   "metadata": {},
   "outputs": [
    {
     "output_type": "execute_result",
     "data": {
      "text/plain": "tensor([[-1, -1, -1, -1, -1, -1, -1, -1, -1, -1, -1, -1, -1, -1, -1]])"
     },
     "metadata": {},
     "execution_count": 69
    }
   ],
   "source": [
    "y = torch.LongTensor(1, 15).fill_(-1); y"
   ]
  },
  {
   "cell_type": "code",
   "execution_count": 8,
   "metadata": {},
   "outputs": [
    {
     "output_type": "execute_result",
     "data": {
      "text/plain": "tensor([ 1, 10])"
     },
     "metadata": {},
     "execution_count": 8
    }
   ],
   "source": [
    "x = torch.LongTensor([1, 10]); x"
   ]
  },
  {
   "cell_type": "code",
   "execution_count": 10,
   "metadata": {},
   "outputs": [
    {
     "output_type": "execute_result",
     "data": {
      "text/plain": "tensor([32,  2])"
     },
     "metadata": {},
     "execution_count": 10
    }
   ],
   "source": [
    "x_ = torch.tensor([32, 2], dtype=torch.long); x_"
   ]
  },
  {
   "cell_type": "code",
   "execution_count": 24,
   "metadata": {
    "tags": []
   },
   "outputs": [],
   "source": [
    "import json\n",
    "from tqdm import tqdm"
   ]
  },
  {
   "cell_type": "code",
   "execution_count": 25,
   "metadata": {
    "tags": []
   },
   "outputs": [],
   "source": [
    "with open(file='E:\\PycharmProjects\\SDNetMyself\\coqa\\data\\coqa-dev-v1.0.json', mode='r', encoding='utf-8') as f:\n",
    "    dataset = json.load(f)"
   ]
  },
  {
   "cell_type": "code",
   "execution_count": 26,
   "metadata": {
    "tags": []
   },
   "outputs": [
    {
     "output_type": "stream",
     "name": "stdout",
     "text": "Processing json...\n500\n  0%|          | 0/500 [00:00<?, ?it/s]{'source': 'mctest', 'id': '3dr23u6we5exclen4th8uq9rb42tel', 'filename': 'mc160.test.41', 'story': 'Once upon a time, in a barn near a farm house, there lived a little white kitten named Cotton. Cotton lived high up in a nice warm place above the barn where all of the farmer\\'s horses slept. But Cotton wasn\\'t alone in her little home above the barn, oh no. She shared her hay bed with her mommy and 5 other sisters. All of her sisters were cute and fluffy, like Cotton. But she was the only white one in the bunch. The rest of her sisters were all orange with beautiful white tiger stripes like Cotton\\'s mommy. Being different made Cotton quite sad. She often wished she looked like the rest of her family. So one day, when Cotton found a can of the old farmer\\'s orange paint, she used it to paint herself like them. When her mommy and sisters found her they started laughing. \\n\\n\"What are you doing, Cotton?!\" \\n\\n\"I only wanted to be more like you\". \\n\\nCotton\\'s mommy rubbed her face on Cotton\\'s and said \"Oh Cotton, but your fur is so pretty and special, like you. We would never want you to be any other way\". And with that, Cotton\\'s mommy picked her up and dropped her into a big bucket of water. When Cotton came out she was herself again. Her sisters licked her face until Cotton\\'s fur was all all dry. \\n\\n\"Don\\'t ever do that again, Cotton!\" they all cried. \"Next time you might mess up that pretty white fur of yours and we wouldn\\'t want that!\" \\n\\nThen Cotton thought, \"I change my mind. I like being special\".', 'questions': [{'input_text': 'What color was Cotton?', 'turn_id': 1}, {'input_text': 'Where did she live?', 'turn_id': 2}, {'input_text': 'Did she live alone?', 'turn_id': 3}, {'input_text': 'Who did she live with?', 'turn_id': 4}, {'input_text': 'What color were her sisters?', 'turn_id': 5}, {'input_text': 'Was Cotton happy that she looked different than the rest of her family?', 'turn_id': 6}, {'input_text': 'What did she do to try to make herself the same color as her sisters?', 'turn_id': 7}, {'input_text': 'Whose paint was it?', 'turn_id': 8}, {'input_text': \"What did Cotton's mother and siblings do when they saw her painted orange?\", 'turn_id': 9}, {'input_text': \"Where did Cotton's mother put her to clean the paint off?\", 'turn_id': 10}, {'input_text': 'What did the other cats do when Cotton emerged from the bucket of water?', 'turn_id': 11}, {'input_text': 'Did they want Cotton to change the color of her fur?', 'turn_id': 12}], 'answers': [{'span_start': 59, 'span_end': 93, 'span_text': 'a little white kitten named Cotton', 'input_text': 'white', 'turn_id': 1}, {'span_start': 18, 'span_end': 80, 'span_text': 'in a barn near a farm house, there lived a little white kitten', 'input_text': 'in a barn', 'turn_id': 2}, {'span_start': 196, 'span_end': 215, 'span_text': \"Cotton wasn't alone\", 'input_text': 'no', 'turn_id': 3}, {'span_start': 281, 'span_end': 315, 'span_text': 'with her mommy and 5 other sisters', 'input_text': 'with her mommy and 5 sisters', 'turn_id': 4}, {'span_start': 428, 'span_end': 490, 'span_text': 'her sisters were all orange with beautiful white tiger stripes', 'input_text': 'orange and white', 'turn_id': 5}, {'span_start': 512, 'span_end': 549, 'span_text': 'Being different made Cotton quite sad', 'input_text': 'no', 'turn_id': 6}, {'span_start': 678, 'span_end': 716, 'span_text': 'she used it to paint herself like them', 'input_text': 'she painted herself', 'turn_id': 7}, {'span_start': 647, 'span_end': 676, 'span_text': \"the old farmer's orange paint\", 'input_text': 'the farmer', 'turn_id': 8}, {'span_start': 718, 'span_end': 776, 'span_text': 'When her mommy and sisters found her they started laughing', 'input_text': 'they started laughing', 'turn_id': 9}, {'span_start': 1035, 'span_end': 1097, 'span_text': 'mommy picked her up and dropped her into a big bucket of water', 'input_text': 'a bucket of water', 'turn_id': 10}, {'span_start': 1143, 'span_end': 1170, 'span_text': 'Her sisters licked her face', 'input_text': 'licked her face', 'turn_id': 11}, {'span_start': 965, 'span_end': 1008, 'span_text': 'We would never want you to be any other way', 'input_text': 'no', 'turn_id': 12}], 'additional_answers': {'0': [{'span_start': 68, 'span_end': 93, 'span_text': 'white kitten named Cotton', 'input_text': 'white', 'turn_id': 1}, {'span_start': 17, 'span_end': 93, 'span_text': ' in a barn near a farm house, there lived a little white kitten named Cotton', 'input_text': 'in a barn', 'turn_id': 2}, {'span_start': 192, 'span_end': 215, 'span_text': \"But Cotton wasn't alone\", 'input_text': 'no', 'turn_id': 3}, {'span_start': 258, 'span_end': 315, 'span_text': 'She shared her hay bed with her mommy and 5 other sisters', 'input_text': 'her mommy and 5 other sisters', 'turn_id': 4}, {'span_start': 416, 'span_end': 490, 'span_text': 'The rest of her sisters were all orange with beautiful white tiger stripes', 'input_text': 'orange with white tiger stripes', 'turn_id': 5}, {'span_start': 512, 'span_end': 549, 'span_text': 'Being different made Cotton quite sad', 'input_text': 'no', 'turn_id': 6}, {'span_start': 678, 'span_end': 716, 'span_text': 'she used it to paint herself like them', 'input_text': 'she painted herself', 'turn_id': 7}, {'span_start': 655, 'span_end': 676, 'span_text': \"farmer's orange paint\", 'input_text': \"the farmer's\", 'turn_id': 8}, {'span_start': 718, 'span_end': 777, 'span_text': 'When her mommy and sisters found her they started laughing.', 'input_text': 'they started laughing', 'turn_id': 9}, {'span_start': 1059, 'span_end': 1097, 'span_text': 'dropped her into a big bucket of water', 'input_text': 'dropped her into a big bucket of water', 'turn_id': 10}, {'span_start': 1143, 'span_end': 1171, 'span_text': 'Her sisters licked her face ', 'input_text': 'licked her face', 'turn_id': 11}, {'span_start': 1209, 'span_end': 1244, 'span_text': '\"Don\\'t ever do that again, Cotton!\"', 'input_text': 'no', 'turn_id': 12}], '1': [{'span_start': 68, 'span_end': 74, 'span_text': 'white ', 'input_text': 'white', 'turn_id': 1}, {'span_start': 18, 'span_end': 27, 'span_text': 'in a barn', 'input_text': 'in a barn', 'turn_id': 2}, {'span_start': 202, 'span_end': 215, 'span_text': \" wasn't alone\", 'input_text': 'No', 'turn_id': 3}, {'span_start': 286, 'span_end': 315, 'span_text': 'her mommy and 5 other sisters', 'input_text': 'her mommy and 5 other sisters', 'turn_id': 4}, {'span_start': 449, 'span_end': 456, 'span_text': 'orange ', 'input_text': 'orange', 'turn_id': 5}, {'span_start': 546, 'span_end': 549, 'span_text': 'sad', 'input_text': 'No', 'turn_id': 6}, {'span_start': 693, 'span_end': 716, 'span_text': 'paint herself like them', 'input_text': 'paint herself like them', 'turn_id': 7}, {'span_start': 647, 'span_end': 663, 'span_text': \"the old farmer's\", 'input_text': \"the old farmer's\", 'turn_id': 8}, {'span_start': 866, 'span_end': 882, 'span_text': ' rubbed her face', 'input_text': 'rubbed her face', 'turn_id': 9}, {'span_start': 1071, 'span_end': 1097, 'span_text': 'into a big bucket of water', 'input_text': 'into a big bucket of water', 'turn_id': 10}, {'span_start': 1154, 'span_end': 1170, 'span_text': ' licked her face', 'input_text': 'licked her face', 'turn_id': 11}, {'span_start': 974, 'span_end': 1008, 'span_text': 'never want you to be any other way', 'input_text': 'No', 'turn_id': 12}], '2': [{'span_start': 68, 'span_end': 94, 'span_text': 'white kitten named Cotton.', 'input_text': 'white', 'turn_id': 1}, {'span_start': 17, 'span_end': 94, 'span_text': ' in a barn near a farm house, there lived a little white kitten named Cotton.', 'input_text': 'in a barn near', 'turn_id': 2}, {'span_start': 191, 'span_end': 316, 'span_text': \" But Cotton wasn't alone in her little home above the barn, oh no. She shared her hay bed with her mommy and 5 other sisters.\", 'input_text': 'no', 'turn_id': 3}, {'span_start': 258, 'span_end': 316, 'span_text': 'She shared her hay bed with her mommy and 5 other sisters.', 'input_text': 'her mommy and 5 other sisters', 'turn_id': 4}, {'span_start': 416, 'span_end': 511, 'span_text': \"The rest of her sisters were all orange with beautiful white tiger stripes like Cotton's mommy.\", 'input_text': 'orange', 'turn_id': 5}, {'span_start': 512, 'span_end': 550, 'span_text': 'Being different made Cotton quite sad.', 'input_text': 'no', 'turn_id': 6}, {'span_start': 607, 'span_end': 718, 'span_text': \" So one day, when Cotton found a can of the old farmer's orange paint, she used it to paint herself like them. \", 'input_text': 'paint herself like them', 'turn_id': 7}, {'span_start': 608, 'span_end': 676, 'span_text': \"So one day, when Cotton found a can of the old farmer's orange paint\", 'input_text': \"the farmer's\", 'turn_id': 8}, {'span_start': 718, 'span_end': 778, 'span_text': 'When her mommy and sisters found her they started laughing. ', 'input_text': 'started laughing', 'turn_id': 9}, {'span_start': 1011, 'span_end': 1098, 'span_text': \"And with that, Cotton's mommy picked her up and dropped her into a big bucket of water.\", 'input_text': 'a big bucket of water', 'turn_id': 10}, {'span_start': 1142, 'span_end': 1207, 'span_text': \" Her sisters licked her face until Cotton's fur was all all dry. \", 'input_text': 'licked her face', 'turn_id': 11}, {'span_start': 1209, 'span_end': 1260, 'span_text': '\"Don\\'t ever do that again, Cotton!\" they all cried.', 'input_text': 'no', 'turn_id': 12}]}, 'name': 'mc160.test.41'}\n\n"
    }
   ],
   "source": [
    "print('Processing json...')\n",
    "data = []\n",
    "tot = len(dataset['data'])\n",
    "print(tot)\n",
    "for data_idx in tqdm(range(tot)):\n",
    "    datum = dataset['data'][data_idx]\n",
    "    print(datum)\n",
    "    break"
   ]
  },
  {
   "cell_type": "code",
   "execution_count": 6,
   "metadata": {},
   "outputs": [],
   "source": [
    "def gen_upper_triangle(score_s, score_e, max_len, use_cuda):\n",
    "    batch_size = score_s.shape[0]\n",
    "    context_len = score_s.shape[1]\n",
    "    # batch x context_len x context_len\n",
    "    expand_score = score_s.unsqueeze(2).expand([batch_size, context_len, context_len]) + \\\n",
    "                   score_e.unsqueeze(1).expand([batch_size, context_len, context_len])\n",
    "    print(expand_score.shape)\n",
    "    score_mask = torch.ones(context_len)\n",
    "    if use_cuda:\n",
    "        score_mask = score_mask.cuda()\n",
    "    score_mask = torch.ger(score_mask, score_mask).triu().tril(max_len - 1)  # 向量间外积\n",
    "    empty_mask = score_mask.eq(0).unsqueeze(0).expand_as(expand_score)\n",
    "    expand_score.data.masked_fill_(empty_mask.data, -float('inf'))\n",
    "    return expand_score.contiguous().view(batch_size, -1)"
   ]
  },
  {
   "cell_type": "code",
   "execution_count": 40,
   "metadata": {},
   "outputs": [],
   "source": [
    "batch_size = 4\n",
    "context_len = 8"
   ]
  },
  {
   "cell_type": "code",
   "execution_count": 42,
   "metadata": {},
   "outputs": [
    {
     "output_type": "execute_result",
     "data": {
      "text/plain": "tensor([1., 1., 1., 1., 1., 1., 1., 1.])"
     },
     "metadata": {},
     "execution_count": 42
    }
   ],
   "source": [
    "score_mask = torch.ones(context_len); score_mask"
   ]
  },
  {
   "cell_type": "code",
   "execution_count": 43,
   "metadata": {},
   "outputs": [
    {
     "output_type": "execute_result",
     "data": {
      "text/plain": "tensor([[1., 1., 1., 1., 1., 1., 1., 1.],\n        [1., 1., 1., 1., 1., 1., 1., 1.],\n        [1., 1., 1., 1., 1., 1., 1., 1.],\n        [1., 1., 1., 1., 1., 1., 1., 1.],\n        [1., 1., 1., 1., 1., 1., 1., 1.],\n        [1., 1., 1., 1., 1., 1., 1., 1.],\n        [1., 1., 1., 1., 1., 1., 1., 1.],\n        [1., 1., 1., 1., 1., 1., 1., 1.]])"
     },
     "metadata": {},
     "execution_count": 43
    }
   ],
   "source": [
    "score_mask = torch.ger(score_mask, score_mask); score_mask"
   ]
  },
  {
   "cell_type": "code",
   "execution_count": 53,
   "metadata": {},
   "outputs": [
    {
     "output_type": "execute_result",
     "data": {
      "text/plain": "tensor([[1., 1., 1., 1., 1., 1., 1., 1.],\n        [0., 1., 1., 1., 1., 1., 1., 1.],\n        [0., 0., 1., 1., 1., 1., 1., 1.],\n        [0., 0., 0., 1., 1., 1., 1., 1.],\n        [0., 0., 0., 0., 1., 1., 1., 1.],\n        [0., 0., 0., 0., 0., 1., 1., 1.],\n        [0., 0., 0., 0., 0., 0., 1., 1.],\n        [0., 0., 0., 0., 0., 0., 0., 1.]])"
     },
     "metadata": {},
     "execution_count": 53
    }
   ],
   "source": [
    "score_mask.triu().tril(7)"
   ]
  },
  {
   "cell_type": "code",
   "execution_count": 54,
   "metadata": {},
   "outputs": [
    {
     "output_type": "execute_result",
     "data": {
      "text/plain": "tensor([[[0, 0, 0, 0, 0, 0, 0, 0],\n         [0, 0, 0, 0, 0, 0, 0, 0],\n         [0, 0, 0, 0, 0, 0, 0, 0],\n         [0, 0, 0, 0, 0, 0, 0, 0],\n         [0, 0, 0, 0, 0, 0, 0, 0],\n         [0, 0, 0, 0, 0, 0, 0, 0],\n         [0, 0, 0, 0, 0, 0, 0, 0],\n         [0, 0, 0, 0, 0, 0, 0, 0]],\n\n        [[0, 0, 0, 0, 0, 0, 0, 0],\n         [0, 0, 0, 0, 0, 0, 0, 0],\n         [0, 0, 0, 0, 0, 0, 0, 0],\n         [0, 0, 0, 0, 0, 0, 0, 0],\n         [0, 0, 0, 0, 0, 0, 0, 0],\n         [0, 0, 0, 0, 0, 0, 0, 0],\n         [0, 0, 0, 0, 0, 0, 0, 0],\n         [0, 0, 0, 0, 0, 0, 0, 0]],\n\n        [[0, 0, 0, 0, 0, 0, 0, 0],\n         [0, 0, 0, 0, 0, 0, 0, 0],\n         [0, 0, 0, 0, 0, 0, 0, 0],\n         [0, 0, 0, 0, 0, 0, 0, 0],\n         [0, 0, 0, 0, 0, 0, 0, 0],\n         [0, 0, 0, 0, 0, 0, 0, 0],\n         [0, 0, 0, 0, 0, 0, 0, 0],\n         [0, 0, 0, 0, 0, 0, 0, 0]],\n\n        [[0, 0, 0, 0, 0, 0, 0, 0],\n         [0, 0, 0, 0, 0, 0, 0, 0],\n         [0, 0, 0, 0, 0, 0, 0, 0],\n         [0, 0, 0, 0, 0, 0, 0, 0],\n         [0, 0, 0, 0, 0, 0, 0, 0],\n         [0, 0, 0, 0, 0, 0, 0, 0],\n         [0, 0, 0, 0, 0, 0, 0, 0],\n         [0, 0, 0, 0, 0, 0, 0, 0]]], dtype=torch.uint8)"
     },
     "metadata": {},
     "execution_count": 54
    }
   ],
   "source": [
    "empty_mask = score_mask.eq(0).unsqueeze(0).expand_as(expand_score); empty_mask"
   ]
  },
  {
   "cell_type": "code",
   "execution_count": 57,
   "metadata": {},
   "outputs": [
    {
     "output_type": "execute_result",
     "data": {
      "text/plain": "tensor([[[1.5604, 0.7544, 1.5624, 0.8054, 1.1828, 0.8934, 0.7587, 1.5940],\n         [1.0262, 0.2202, 1.0282, 0.2712, 0.6486, 0.3592, 0.2246, 1.0598],\n         [1.3542, 0.5482, 1.3562, 0.5992, 0.9766, 0.6872, 0.5526, 1.3878],\n         [1.1037, 0.2977, 1.1057, 0.3487, 0.7261, 0.4367, 0.3021, 1.1373],\n         [1.2669, 0.4610, 1.2690, 0.5119, 0.8893, 0.5999, 0.4653, 1.3005],\n         [1.4550, 0.6490, 1.4570, 0.7000, 1.0774, 0.7880, 0.6533, 1.4886],\n         [1.2867, 0.4807, 1.2887, 0.5317, 0.9091, 0.6197, 0.4850, 1.3203],\n         [0.9663, 0.1604, 0.9684, 0.2113, 0.5888, 0.2993, 0.1647, 0.9999]],\n\n        [[1.9078, 1.2668, 1.5963, 1.4643, 1.1351, 1.6888, 1.7552, 1.0667],\n         [1.8334, 1.1923, 1.5219, 1.3898, 1.0606, 1.6143, 1.6808, 0.9922],\n         [1.7618, 1.1207, 1.4503, 1.3182, 0.9890, 1.5427, 1.6092, 0.9206],\n         [1.4660, 0.8249, 1.1545, 1.0224, 0.6932, 1.2469, 1.3134, 0.6248],\n         [1.5663, 0.9253, 1.2548, 1.1227, 0.7936, 1.3473, 1.4137, 0.7251],\n         [1.1908, 0.5497, 0.8793, 0.7472, 0.4180, 0.9717, 1.0382, 0.3496],\n         [1.2028, 0.5618, 0.8913, 0.7593, 0.4301, 0.9838, 1.0502, 0.3617],\n         [1.7757, 1.1347, 1.4642, 1.3321, 1.0030, 1.5567, 1.6231, 0.9345]],\n\n        [[0.4397, 0.8802, 0.3231, 1.1560, 0.9102, 0.6183, 1.2345, 0.6864],\n         [0.6299, 1.0704, 0.5133, 1.3462, 1.1004, 0.8085, 1.4247, 0.8766],\n         [0.3121, 0.7525, 0.1954, 1.0283, 0.7826, 0.4906, 1.1069, 0.5587],\n         [0.7431, 1.1835, 0.6264, 1.4593, 1.2136, 0.9216, 1.5378, 0.9897],\n         [0.7278, 1.1682, 0.6111, 1.4440, 1.1983, 0.9063, 1.5226, 0.9744],\n         [0.2730, 0.7135, 0.1564, 0.9893, 0.7435, 0.4516, 1.0678, 0.5197],\n         [0.9036, 1.3440, 0.7869, 1.6198, 1.3741, 1.0821, 1.6983, 1.1502],\n         [0.8622, 1.3026, 0.7455, 1.5785, 1.3327, 1.0408, 1.6570, 1.1088]],\n\n        [[0.6754, 1.2968, 0.7137, 1.1065, 0.4159, 1.2092, 1.3095, 0.4288],\n         [0.4191, 1.0405, 0.4574, 0.8502, 0.1596, 0.9529, 1.0533, 0.1726],\n         [0.3769, 0.9983, 0.4152, 0.8080, 0.1174, 0.9107, 1.0111, 0.1304],\n         [0.8483, 1.4697, 0.8866, 1.2794, 0.5888, 1.3821, 1.4825, 0.6018],\n         [1.1051, 1.7265, 1.1434, 1.5362, 0.8455, 1.6389, 1.7392, 0.8585],\n         [0.3924, 1.0138, 0.4307, 0.8235, 0.1329, 0.9262, 1.0266, 0.1459],\n         [1.0714, 1.6928, 1.1097, 1.5025, 0.8119, 1.6052, 1.7056, 0.8248],\n         [1.1567, 1.7780, 1.1949, 1.5877, 0.8971, 1.6904, 1.7908, 0.9101]]])"
     },
     "metadata": {},
     "execution_count": 57
    }
   ],
   "source": [
    "expand_score"
   ]
  },
  {
   "cell_type": "code",
   "execution_count": 59,
   "metadata": {},
   "outputs": [
    {
     "output_type": "execute_result",
     "data": {
      "text/plain": "tensor([[[1.5604, 0.7544, 1.5624, 0.8054, 1.1828, 0.8934, 0.7587, 1.5940],\n         [1.0262, 0.2202, 1.0282, 0.2712, 0.6486, 0.3592, 0.2246, 1.0598],\n         [1.3542, 0.5482, 1.3562, 0.5992, 0.9766, 0.6872, 0.5526, 1.3878],\n         [1.1037, 0.2977, 1.1057, 0.3487, 0.7261, 0.4367, 0.3021, 1.1373],\n         [1.2669, 0.4610, 1.2690, 0.5119, 0.8893, 0.5999, 0.4653, 1.3005],\n         [1.4550, 0.6490, 1.4570, 0.7000, 1.0774, 0.7880, 0.6533, 1.4886],\n         [1.2867, 0.4807, 1.2887, 0.5317, 0.9091, 0.6197, 0.4850, 1.3203],\n         [0.9663, 0.1604, 0.9684, 0.2113, 0.5888, 0.2993, 0.1647, 0.9999]],\n\n        [[1.9078, 1.2668, 1.5963, 1.4643, 1.1351, 1.6888, 1.7552, 1.0667],\n         [1.8334, 1.1923, 1.5219, 1.3898, 1.0606, 1.6143, 1.6808, 0.9922],\n         [1.7618, 1.1207, 1.4503, 1.3182, 0.9890, 1.5427, 1.6092, 0.9206],\n         [1.4660, 0.8249, 1.1545, 1.0224, 0.6932, 1.2469, 1.3134, 0.6248],\n         [1.5663, 0.9253, 1.2548, 1.1227, 0.7936, 1.3473, 1.4137, 0.7251],\n         [1.1908, 0.5497, 0.8793, 0.7472, 0.4180, 0.9717, 1.0382, 0.3496],\n         [1.2028, 0.5618, 0.8913, 0.7593, 0.4301, 0.9838, 1.0502, 0.3617],\n         [1.7757, 1.1347, 1.4642, 1.3321, 1.0030, 1.5567, 1.6231, 0.9345]],\n\n        [[0.4397, 0.8802, 0.3231, 1.1560, 0.9102, 0.6183, 1.2345, 0.6864],\n         [0.6299, 1.0704, 0.5133, 1.3462, 1.1004, 0.8085, 1.4247, 0.8766],\n         [0.3121, 0.7525, 0.1954, 1.0283, 0.7826, 0.4906, 1.1069, 0.5587],\n         [0.7431, 1.1835, 0.6264, 1.4593, 1.2136, 0.9216, 1.5378, 0.9897],\n         [0.7278, 1.1682, 0.6111, 1.4440, 1.1983, 0.9063, 1.5226, 0.9744],\n         [0.2730, 0.7135, 0.1564, 0.9893, 0.7435, 0.4516, 1.0678, 0.5197],\n         [0.9036, 1.3440, 0.7869, 1.6198, 1.3741, 1.0821, 1.6983, 1.1502],\n         [0.8622, 1.3026, 0.7455, 1.5785, 1.3327, 1.0408, 1.6570, 1.1088]],\n\n        [[0.6754, 1.2968, 0.7137, 1.1065, 0.4159, 1.2092, 1.3095, 0.4288],\n         [0.4191, 1.0405, 0.4574, 0.8502, 0.1596, 0.9529, 1.0533, 0.1726],\n         [0.3769, 0.9983, 0.4152, 0.8080, 0.1174, 0.9107, 1.0111, 0.1304],\n         [0.8483, 1.4697, 0.8866, 1.2794, 0.5888, 1.3821, 1.4825, 0.6018],\n         [1.1051, 1.7265, 1.1434, 1.5362, 0.8455, 1.6389, 1.7392, 0.8585],\n         [0.3924, 1.0138, 0.4307, 0.8235, 0.1329, 0.9262, 1.0266, 0.1459],\n         [1.0714, 1.6928, 1.1097, 1.5025, 0.8119, 1.6052, 1.7056, 0.8248],\n         [1.1567, 1.7780, 1.1949, 1.5877, 0.8971, 1.6904, 1.7908, 0.9101]]])"
     },
     "metadata": {},
     "execution_count": 59
    }
   ],
   "source": [
    "expand_score.data.masked_fill_(empty_mask.data, -float('inf'))"
   ]
  },
  {
   "cell_type": "code",
   "execution_count": 58,
   "metadata": {},
   "outputs": [
    {
     "output_type": "execute_result",
     "data": {
      "text/plain": "tensor([[1., 1., 1., 1., 1., 1., 1., 1.],\n        [0., 1., 1., 1., 1., 1., 1., 1.],\n        [0., 0., 1., 1., 1., 1., 1., 1.],\n        [0., 0., 0., 1., 1., 1., 1., 1.],\n        [0., 0., 0., 0., 1., 1., 1., 1.],\n        [0., 0., 0., 0., 0., 1., 1., 1.],\n        [0., 0., 0., 0., 0., 0., 1., 1.],\n        [0., 0., 0., 0., 0., 0., 0., 1.]])"
     },
     "metadata": {},
     "execution_count": 58
    }
   ],
   "source": [
    "score_mask.triu()"
   ]
  },
  {
   "cell_type": "code",
   "execution_count": null,
   "metadata": {},
   "outputs": [],
   "source": []
  },
  {
   "cell_type": "code",
   "execution_count": 50,
   "metadata": {},
   "outputs": [
    {
     "output_type": "execute_result",
     "data": {
      "text/plain": "tensor([[1., 1., 1., 1., 1., 1., 1., 1.],\n        [0., 1., 1., 1., 1., 1., 1., 1.],\n        [0., 0., 1., 1., 1., 1., 1., 1.],\n        [0., 0., 0., 1., 1., 1., 1., 1.],\n        [0., 0., 0., 0., 1., 1., 1., 1.],\n        [0., 0., 0., 0., 0., 1., 1., 1.],\n        [0., 0., 0., 0., 0., 0., 1., 1.],\n        [0., 0., 0., 0., 0., 0., 0., 1.]])"
     },
     "metadata": {},
     "execution_count": 50
    }
   ],
   "source": [
    "score_mask.triu().tril(7)"
   ]
  },
  {
   "cell_type": "code",
   "execution_count": 52,
   "metadata": {},
   "outputs": [
    {
     "output_type": "error",
     "ename": "RuntimeError",
     "evalue": "ger: Expected 1-D argument self, but got 2-D",
     "traceback": [
      "\u001b[1;31m---------------------------------------------------------------------------\u001b[0m",
      "\u001b[1;31mRuntimeError\u001b[0m                              Traceback (most recent call last)",
      "\u001b[1;32m<ipython-input-52-1718cbd1c647>\u001b[0m in \u001b[0;36m<module>\u001b[1;34m\u001b[0m\n\u001b[1;32m----> 1\u001b[1;33m \u001b[0mscore_mask\u001b[0m \u001b[1;33m=\u001b[0m \u001b[0mtorch\u001b[0m\u001b[1;33m.\u001b[0m\u001b[0mger\u001b[0m\u001b[1;33m(\u001b[0m\u001b[0mscore_mask\u001b[0m\u001b[1;33m,\u001b[0m \u001b[0mscore_mask\u001b[0m\u001b[1;33m)\u001b[0m\u001b[1;33m.\u001b[0m\u001b[0mtriu\u001b[0m\u001b[1;33m(\u001b[0m\u001b[1;33m)\u001b[0m\u001b[1;33m.\u001b[0m\u001b[0mtril\u001b[0m\u001b[1;33m(\u001b[0m\u001b[1;36m8\u001b[0m \u001b[1;33m-\u001b[0m \u001b[1;36m1\u001b[0m\u001b[1;33m)\u001b[0m\u001b[1;33m;\u001b[0m \u001b[0mscore_mask\u001b[0m\u001b[1;33m\u001b[0m\u001b[1;33m\u001b[0m\u001b[0m\n\u001b[0m",
      "\u001b[1;31mRuntimeError\u001b[0m: ger: Expected 1-D argument self, but got 2-D"
     ]
    }
   ],
   "source": []
  },
  {
   "cell_type": "code",
   "execution_count": null,
   "metadata": {},
   "outputs": [],
   "source": []
  },
  {
   "cell_type": "code",
   "execution_count": null,
   "metadata": {},
   "outputs": [],
   "source": []
  },
  {
   "cell_type": "code",
   "execution_count": 17,
   "metadata": {},
   "outputs": [
    {
     "output_type": "execute_result",
     "data": {
      "text/plain": "tensor([[0.7182, 0.1840, 0.5120, 0.2615, 0.4247, 0.6128, 0.4444, 0.1241],\n        [0.9564, 0.8819, 0.8103, 0.5145, 0.6148, 0.2393, 0.2514, 0.8242],\n        [0.2692, 0.4595, 0.1416, 0.5726, 0.5573, 0.1026, 0.7331, 0.6917],\n        [0.3519, 0.0956, 0.0534, 0.5248, 0.7816, 0.0689, 0.7479, 0.8332]])"
     },
     "metadata": {},
     "execution_count": 17
    }
   ],
   "source": [
    "score_s = torch.rand(size=(batch_size, context_len)); score_s"
   ]
  },
  {
   "cell_type": "code",
   "execution_count": 18,
   "metadata": {},
   "outputs": [
    {
     "output_type": "execute_result",
     "data": {
      "text/plain": "torch.Size([4, 8])"
     },
     "metadata": {},
     "execution_count": 18
    }
   ],
   "source": [
    "score_s.shape"
   ]
  },
  {
   "cell_type": "code",
   "execution_count": 19,
   "metadata": {},
   "outputs": [
    {
     "output_type": "execute_result",
     "data": {
      "text/plain": "tensor([[0.8422, 0.0363, 0.8443, 0.0872, 0.4646, 0.1752, 0.0406, 0.8758],\n        [0.9515, 0.3104, 0.6400, 0.5079, 0.1787, 0.7324, 0.7989, 0.1103],\n        [0.1705, 0.6109, 0.0538, 0.8867, 0.6410, 0.3490, 0.9653, 0.4171],\n        [0.3235, 0.9449, 0.3618, 0.7546, 0.0640, 0.8573, 0.9576, 0.0769]])"
     },
     "metadata": {},
     "execution_count": 19
    }
   ],
   "source": [
    "score_e = torch.rand(size=(batch_size, context_len)); score_e"
   ]
  },
  {
   "cell_type": "code",
   "execution_count": 32,
   "metadata": {},
   "outputs": [
    {
     "output_type": "execute_result",
     "data": {
      "text/plain": "torch.Size([4, 8])"
     },
     "metadata": {},
     "execution_count": 32
    }
   ],
   "source": [
    "score_e.shape"
   ]
  },
  {
   "cell_type": "code",
   "execution_count": 37,
   "metadata": {},
   "outputs": [
    {
     "output_type": "execute_result",
     "data": {
      "text/plain": "torch.Size([4, 8, 1])"
     },
     "metadata": {},
     "execution_count": 37
    }
   ],
   "source": [
    "score_s.unsqueeze(2).shape"
   ]
  },
  {
   "cell_type": "code",
   "execution_count": 35,
   "metadata": {},
   "outputs": [
    {
     "output_type": "execute_result",
     "data": {
      "text/plain": "torch.Size([4, 8, 8])"
     },
     "metadata": {},
     "execution_count": 35
    }
   ],
   "source": [
    "test_s = score_s.unsqueeze(2).expand([batch_size, context_len, context_len]); test_s.shape"
   ]
  },
  {
   "cell_type": "code",
   "execution_count": 31,
   "metadata": {},
   "outputs": [
    {
     "output_type": "execute_result",
     "data": {
      "text/plain": "torch.Size([4, 1, 8])"
     },
     "metadata": {},
     "execution_count": 31
    }
   ],
   "source": [
    "score_e.unsqueeze(1).shape"
   ]
  },
  {
   "cell_type": "code",
   "execution_count": 27,
   "metadata": {},
   "outputs": [
    {
     "output_type": "execute_result",
     "data": {
      "text/plain": "torch.Size([4, 8, 8])"
     },
     "metadata": {},
     "execution_count": 27
    }
   ],
   "source": [
    "test_e = score_e.unsqueeze(1).expand([batch_size, context_len, context_len]); test_e.shape"
   ]
  },
  {
   "cell_type": "code",
   "execution_count": 28,
   "metadata": {},
   "outputs": [
    {
     "output_type": "execute_result",
     "data": {
      "text/plain": "torch.Size([4, 8, 8])"
     },
     "metadata": {},
     "execution_count": 28
    }
   ],
   "source": [
    "expand_score = test_s + test_e; expand_score.shape"
   ]
  },
  {
   "cell_type": "code",
   "execution_count": 38,
   "metadata": {},
   "outputs": [
    {
     "output_type": "execute_result",
     "data": {
      "text/plain": "tensor([[[0.7182],\n         [0.1840],\n         [0.5120],\n         [0.2615],\n         [0.4247],\n         [0.6128],\n         [0.4444],\n         [0.1241]],\n\n        [[0.9564],\n         [0.8819],\n         [0.8103],\n         [0.5145],\n         [0.6148],\n         [0.2393],\n         [0.2514],\n         [0.8242]],\n\n        [[0.2692],\n         [0.4595],\n         [0.1416],\n         [0.5726],\n         [0.5573],\n         [0.1026],\n         [0.7331],\n         [0.6917]],\n\n        [[0.3519],\n         [0.0956],\n         [0.0534],\n         [0.5248],\n         [0.7816],\n         [0.0689],\n         [0.7479],\n         [0.8332]]])"
     },
     "metadata": {},
     "execution_count": 38
    }
   ],
   "source": [
    "score_s.unsqueeze(2)"
   ]
  },
  {
   "cell_type": "code",
   "execution_count": 39,
   "metadata": {},
   "outputs": [
    {
     "output_type": "execute_result",
     "data": {
      "text/plain": "tensor([[[0.7182, 0.7182, 0.7182, 0.7182, 0.7182, 0.7182, 0.7182, 0.7182],\n         [0.1840, 0.1840, 0.1840, 0.1840, 0.1840, 0.1840, 0.1840, 0.1840],\n         [0.5120, 0.5120, 0.5120, 0.5120, 0.5120, 0.5120, 0.5120, 0.5120],\n         [0.2615, 0.2615, 0.2615, 0.2615, 0.2615, 0.2615, 0.2615, 0.2615],\n         [0.4247, 0.4247, 0.4247, 0.4247, 0.4247, 0.4247, 0.4247, 0.4247],\n         [0.6128, 0.6128, 0.6128, 0.6128, 0.6128, 0.6128, 0.6128, 0.6128],\n         [0.4444, 0.4444, 0.4444, 0.4444, 0.4444, 0.4444, 0.4444, 0.4444],\n         [0.1241, 0.1241, 0.1241, 0.1241, 0.1241, 0.1241, 0.1241, 0.1241]],\n\n        [[0.9564, 0.9564, 0.9564, 0.9564, 0.9564, 0.9564, 0.9564, 0.9564],\n         [0.8819, 0.8819, 0.8819, 0.8819, 0.8819, 0.8819, 0.8819, 0.8819],\n         [0.8103, 0.8103, 0.8103, 0.8103, 0.8103, 0.8103, 0.8103, 0.8103],\n         [0.5145, 0.5145, 0.5145, 0.5145, 0.5145, 0.5145, 0.5145, 0.5145],\n         [0.6148, 0.6148, 0.6148, 0.6148, 0.6148, 0.6148, 0.6148, 0.6148],\n         [0.2393, 0.2393, 0.2393, 0.2393, 0.2393, 0.2393, 0.2393, 0.2393],\n         [0.2514, 0.2514, 0.2514, 0.2514, 0.2514, 0.2514, 0.2514, 0.2514],\n         [0.8242, 0.8242, 0.8242, 0.8242, 0.8242, 0.8242, 0.8242, 0.8242]],\n\n        [[0.2692, 0.2692, 0.2692, 0.2692, 0.2692, 0.2692, 0.2692, 0.2692],\n         [0.4595, 0.4595, 0.4595, 0.4595, 0.4595, 0.4595, 0.4595, 0.4595],\n         [0.1416, 0.1416, 0.1416, 0.1416, 0.1416, 0.1416, 0.1416, 0.1416],\n         [0.5726, 0.5726, 0.5726, 0.5726, 0.5726, 0.5726, 0.5726, 0.5726],\n         [0.5573, 0.5573, 0.5573, 0.5573, 0.5573, 0.5573, 0.5573, 0.5573],\n         [0.1026, 0.1026, 0.1026, 0.1026, 0.1026, 0.1026, 0.1026, 0.1026],\n         [0.7331, 0.7331, 0.7331, 0.7331, 0.7331, 0.7331, 0.7331, 0.7331],\n         [0.6917, 0.6917, 0.6917, 0.6917, 0.6917, 0.6917, 0.6917, 0.6917]],\n\n        [[0.3519, 0.3519, 0.3519, 0.3519, 0.3519, 0.3519, 0.3519, 0.3519],\n         [0.0956, 0.0956, 0.0956, 0.0956, 0.0956, 0.0956, 0.0956, 0.0956],\n         [0.0534, 0.0534, 0.0534, 0.0534, 0.0534, 0.0534, 0.0534, 0.0534],\n         [0.5248, 0.5248, 0.5248, 0.5248, 0.5248, 0.5248, 0.5248, 0.5248],\n         [0.7816, 0.7816, 0.7816, 0.7816, 0.7816, 0.7816, 0.7816, 0.7816],\n         [0.0689, 0.0689, 0.0689, 0.0689, 0.0689, 0.0689, 0.0689, 0.0689],\n         [0.7479, 0.7479, 0.7479, 0.7479, 0.7479, 0.7479, 0.7479, 0.7479],\n         [0.8332, 0.8332, 0.8332, 0.8332, 0.8332, 0.8332, 0.8332, 0.8332]]])"
     },
     "metadata": {},
     "execution_count": 39
    }
   ],
   "source": [
    "test_s"
   ]
  },
  {
   "cell_type": "code",
   "execution_count": null,
   "metadata": {},
   "outputs": [],
   "source": []
  }
 ]
}