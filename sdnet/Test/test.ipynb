{
 "metadata": {
  "language_info": {
   "codemirror_mode": {
    "name": "ipython",
    "version": 3
   },
   "file_extension": ".py",
   "mimetype": "text/x-python",
   "name": "python",
   "nbconvert_exporter": "python",
   "pygments_lexer": "ipython3",
   "version": "3.6.9-final"
  },
  "orig_nbformat": 2,
  "kernelspec": {
   "name": "python_defaultSpec_1598339341992",
   "display_name": "Python 3.6.9 64-bit ('Torch10': conda)"
  }
 },
 "nbformat": 4,
 "nbformat_minor": 2,
 "cells": [
  {
   "cell_type": "code",
   "execution_count": 1,
   "metadata": {},
   "outputs": [],
   "source": [
    "import torch\n",
    "import re\n",
    "import sys\n",
    "import spacy\n",
    "import unicodedata\n",
    "import numpy as np\n",
    "from torch.autograd import Variable"
   ]
  },
  {
   "cell_type": "code",
   "execution_count": 2,
   "metadata": {},
   "outputs": [
    {
     "output_type": "execute_result",
     "data": {
      "text/plain": "'D:\\\\Anaconda3\\\\envs\\\\Torch10\\\\python.exe'"
     },
     "metadata": {},
     "execution_count": 2
    }
   ],
   "source": [
    "sys.executable"
   ]
  },
  {
   "cell_type": "code",
   "execution_count": 3,
   "metadata": {},
   "outputs": [
    {
     "output_type": "execute_result",
     "data": {
      "text/plain": "'1.0.1'"
     },
     "metadata": {},
     "execution_count": 3
    }
   ],
   "source": [
    "torch.__version__"
   ]
  },
  {
   "cell_type": "code",
   "execution_count": 4,
   "metadata": {},
   "outputs": [],
   "source": [
    "nlp = spacy.load('en_core_web_sm', parser=False)"
   ]
  },
  {
   "cell_type": "code",
   "execution_count": 5,
   "metadata": {},
   "outputs": [],
   "source": [
    "# nlp.tagger.labels"
   ]
  },
  {
   "cell_type": "code",
   "execution_count": 6,
   "metadata": {},
   "outputs": [],
   "source": [
    "# {w: i for i, w in enumerate([''] + list(nlp.tagger.labels))}"
   ]
  },
  {
   "cell_type": "code",
   "execution_count": 7,
   "metadata": {},
   "outputs": [],
   "source": [
    "# {w: i for i, w in enumerate([''] + list(nlp.entity.move_names))}"
   ]
  },
  {
   "cell_type": "code",
   "execution_count": 8,
   "metadata": {},
   "outputs": [],
   "source": [
    "sentence='Beijing like NLP.'"
   ]
  },
  {
   "cell_type": "code",
   "execution_count": 9,
   "metadata": {
    "tags": []
   },
   "outputs": [
    {
     "output_type": "execute_result",
     "data": {
      "text/plain": "Beijing like NLP."
     },
     "metadata": {},
     "execution_count": 9
    }
   ],
   "source": [
    "raw_tokens = nlp(sentence); raw_tokens"
   ]
  },
  {
   "cell_type": "code",
   "execution_count": 10,
   "metadata": {
    "tags": []
   },
   "outputs": [
    {
     "output_type": "stream",
     "name": "stdout",
     "text": "Beijing||FalseFalseGPENNP\nlike||FalseFalseIN\nNLP||FalseFalseORGNNP\n.||TrueFalse.\n"
    }
   ],
   "source": [
    "for token in raw_tokens:\n",
    "    print(token, '||', token.is_punct, token.is_space, token.ent_type_, token.tag_)"
   ]
  },
  {
   "cell_type": "code",
   "execution_count": 11,
   "metadata": {},
   "outputs": [
    {
     "output_type": "execute_result",
     "data": {
      "text/plain": "array([[ 0.79698305,  0.83702857, -0.80461536,  0.55461405,  0.48790577],\n       [-0.94797244,  0.48171392, -0.46968296, -0.31926014,  0.29292209],\n       [-0.91648382,  0.73219536, -0.65105157,  0.60447115,  0.62223631],\n       [-0.96032186, -0.52267581,  0.12606397, -0.43089066, -0.9127302 ],\n       [-0.30685928, -0.36128405,  0.10142948, -0.60657699, -0.52494669]])"
     },
     "metadata": {},
     "execution_count": 11
    }
   ],
   "source": [
    "np.random.uniform(-1, 1, size=(5, 5))"
   ]
  },
  {
   "cell_type": "code",
   "execution_count": 12,
   "metadata": {},
   "outputs": [],
   "source": [
    "test = [x for x in range(1, 11)]"
   ]
  },
  {
   "cell_type": "code",
   "execution_count": 13,
   "metadata": {},
   "outputs": [
    {
     "output_type": "execute_result",
     "data": {
      "text/plain": "[1, 2, 3, 4, 5, 6, 7, 8]"
     },
     "metadata": {},
     "execution_count": 13
    }
   ],
   "source": [
    "test[0: -2]"
   ]
  },
  {
   "cell_type": "code",
   "execution_count": 14,
   "metadata": {},
   "outputs": [],
   "source": [
    "# -2只是索引位置"
   ]
  },
  {
   "cell_type": "code",
   "execution_count": 15,
   "metadata": {
    "tags": []
   },
   "outputs": [],
   "source": [
    "def char2id_sent(sent, c2id, unk_id=None, to_lower=False):\n",
    "    if to_lower:\n",
    "        sent = sent.lower()\n",
    "    cids = [[c2id['<STA>'] + [c2id[c] if c in c2id else unk_id for c in w] + [c2id['<END>']]] for w in sent]\n",
    "    return cids"
   ]
  },
  {
   "cell_type": "code",
   "execution_count": 16,
   "metadata": {},
   "outputs": [],
   "source": [
    "from collections import Counter"
   ]
  },
  {
   "cell_type": "code",
   "execution_count": 17,
   "metadata": {},
   "outputs": [],
   "source": [
    "context = \"Don't break my heart.\""
   ]
  },
  {
   "cell_type": "code",
   "execution_count": 18,
   "metadata": {},
   "outputs": [],
   "source": [
    "doc = nlp(context)"
   ]
  },
  {
   "cell_type": "code",
   "execution_count": 31,
   "metadata": {
    "tags": []
   },
   "outputs": [
    {
     "output_type": "stream",
     "name": "stdout",
     "text": "Do do\nn't not\nbreak break\nmy -PRON-\nheart heart\n. .\n"
    }
   ],
   "source": []
  },
  {
   "cell_type": "code",
   "execution_count": 19,
   "metadata": {},
   "outputs": [],
   "source": [
    "lemma = {token.lemma_ if token.lemma_ != '-PRON-' else token.text.lower() for token in doc}"
   ]
  },
  {
   "cell_type": "code",
   "execution_count": 20,
   "metadata": {},
   "outputs": [
    {
     "output_type": "execute_result",
     "data": {
      "text/plain": "{'.', 'break', 'do', 'heart', 'my', 'not'}"
     },
     "metadata": {},
     "execution_count": 20
    }
   ],
   "source": [
    "lemma"
   ]
  },
  {
   "cell_type": "code",
   "execution_count": 21,
   "metadata": {},
   "outputs": [],
   "source": [
    "lemma_ = {token.text.lower() for token in doc}  # 未拿回单词原型"
   ]
  },
  {
   "cell_type": "code",
   "execution_count": 22,
   "metadata": {},
   "outputs": [
    {
     "output_type": "execute_result",
     "data": {
      "text/plain": "{'.', 'break', 'do', 'heart', 'my', \"n't\"}"
     },
     "metadata": {},
     "execution_count": 22
    }
   ],
   "source": [
    "lemma_"
   ]
  },
  {
   "cell_type": "code",
   "execution_count": 23,
   "metadata": {},
   "outputs": [],
   "source": [
    "_lemma = {token.lemma_ for token in doc}"
   ]
  },
  {
   "cell_type": "code",
   "execution_count": 24,
   "metadata": {},
   "outputs": [
    {
     "output_type": "execute_result",
     "data": {
      "text/plain": "{'-PRON-', '.', 'break', 'do', 'heart', 'not'}"
     },
     "metadata": {},
     "execution_count": 24
    }
   ],
   "source": [
    "_lemma"
   ]
  },
  {
   "cell_type": "code",
   "execution_count": 25,
   "metadata": {},
   "outputs": [
    {
     "output_type": "execute_result",
     "data": {
      "text/plain": "{'.', 'Do', 'break', 'heart', 'my', \"n't\"}"
     },
     "metadata": {},
     "execution_count": 25
    }
   ],
   "source": [
    "question_word = {token.text for token in doc}; question_word"
   ]
  },
  {
   "cell_type": "code",
   "execution_count": 26,
   "metadata": {},
   "outputs": [
    {
     "output_type": "execute_result",
     "data": {
      "text/plain": "{'.', 'break', 'do', 'heart', 'my', 'not'}"
     },
     "metadata": {},
     "execution_count": 26
    }
   ],
   "source": [
    "question_lemma = {token.lemma_ if token.lemma_ != '-PRON-' else token.text for token in doc}; question_lemma"
   ]
  },
  {
   "cell_type": "code",
   "execution_count": 27,
   "metadata": {},
   "outputs": [
    {
     "output_type": "execute_result",
     "data": {
      "text/plain": "[True, True, True, True, True, True]"
     },
     "metadata": {},
     "execution_count": 27
    }
   ],
   "source": [
    "match_origin = [token.text in question_word for token in doc]; match_origin"
   ]
  },
  {
   "cell_type": "code",
   "execution_count": 28,
   "metadata": {},
   "outputs": [],
   "source": [
    "def feature_gen(context, question):\n",
    "    counter_ = Counter(w.text.lower() for w in context)\n",
    "    total = sum(counter_.values())\n",
    "    term_freq = [counter_[w.text.lower()] / total for w in context]\n",
    "    question_word = {w.text for w in question}  # 集合\n",
    "    question_lemma = {w.lemma_ if w != '-PRON-' else w.text.lower() for w in question}  # To lemma_, the base form of the word.\n",
    "    match_origin = [w.text in question_word for w in context]\n",
    "    match_lower = [w.text.lower() in question_word for w in context]\n",
    "    match_lemma = [(w.lemma_ if w.lemma_ != '-PRON-' else w.text.lower()) in question_lemma for w in context]\n",
    "    C_features = list(zip(term_freq, match_origin, match_lower, match_lemma))\n",
    "    return C_features"
   ]
  },
  {
   "cell_type": "code",
   "execution_count": 29,
   "metadata": {},
   "outputs": [],
   "source": [
    "context = \"Once there was a beautiful fish named Asta. Asta lived in the ocean. There were lots of other fish in the ocean where Asta lived. They played all day long. \\n\\nOne day, a bottle floated by over the heads of Asta and his friends. They looked up and saw the bottle. \\\"What is it?\\\" said Asta's friend Sharkie. \\\"It looks like a bird's belly,\\\" said Asta. But when they swam closer, it was not a bird's belly. It was hard and clear, and there was something inside it. \\n\\nThe bottle floated above them. They wanted to open it. They wanted to see what was inside. So they caught the bottle and carried it down to the bottom of the ocean. They cracked it open on a rock. When they got it open, they found what was inside. It was a note. The note was written in orange crayon on white paper. Asta could not read the note. Sharkie could not read the note. They took the note to Asta's papa. \\\"What does it say?\\\" they asked. \\n\\nAsta's papa read the note. He told Asta and Sharkie, \\\"This note is from a little girl. She wants to be your friend. If you want to be her friend, we can write a note to her. But you have to find another bottle so we can send it to her.\\\" And that is what they did.\""
   ]
  },
  {
   "cell_type": "code",
   "execution_count": 30,
   "metadata": {},
   "outputs": [],
   "source": [
    "question = \"what was the name of the fish, What looked like a birds belly\""
   ]
  },
  {
   "cell_type": "code",
   "execution_count": 31,
   "metadata": {},
   "outputs": [],
   "source": [
    "question = nlp(question)"
   ]
  },
  {
   "cell_type": "code",
   "execution_count": 32,
   "metadata": {},
   "outputs": [],
   "source": [
    "context = nlp(context)"
   ]
  },
  {
   "cell_type": "code",
   "execution_count": 33,
   "metadata": {},
   "outputs": [
    {
     "output_type": "execute_result",
     "data": {
      "text/plain": "tensor([[1, 2, 4, 5],\n        [2, 3, 9, 0]])"
     },
     "metadata": {},
     "execution_count": 33
    }
   ],
   "source": [
    "test = torch.tensor([\n",
    "    [1, 2, 4, 5],\n",
    "    [2, 3, 9, 0]\n",
    "]); test"
   ]
  },
  {
   "cell_type": "code",
   "execution_count": 34,
   "metadata": {},
   "outputs": [
    {
     "output_type": "execute_result",
     "data": {
      "text/plain": "torch.Size([2, 4])"
     },
     "metadata": {},
     "execution_count": 34
    }
   ],
   "source": [
    "test.shape"
   ]
  },
  {
   "cell_type": "code",
   "execution_count": 35,
   "metadata": {},
   "outputs": [
    {
     "output_type": "execute_result",
     "data": {
      "text/plain": "tensor([[[1, 2, 4, 5]],\n\n        [[2, 3, 9, 0]]])"
     },
     "metadata": {},
     "execution_count": 35
    }
   ],
   "source": [
    "test_ = test.unsqueeze(1); test_"
   ]
  },
  {
   "cell_type": "code",
   "execution_count": 36,
   "metadata": {},
   "outputs": [
    {
     "output_type": "execute_result",
     "data": {
      "text/plain": "torch.Size([2, 1, 4])"
     },
     "metadata": {},
     "execution_count": 36
    }
   ],
   "source": [
    "test_.shape"
   ]
  },
  {
   "cell_type": "code",
   "execution_count": 37,
   "metadata": {},
   "outputs": [
    {
     "output_type": "execute_result",
     "data": {
      "text/plain": "tensor([[[1, 2, 4, 5]],\n\n        [[2, 3, 9, 0]]])"
     },
     "metadata": {},
     "execution_count": 37
    }
   ],
   "source": [
    "test_"
   ]
  },
  {
   "cell_type": "code",
   "execution_count": 38,
   "metadata": {},
   "outputs": [],
   "source": [
    "# 将张量广播到新形状"
   ]
  },
  {
   "cell_type": "code",
   "execution_count": 39,
   "metadata": {},
   "outputs": [
    {
     "output_type": "execute_result",
     "data": {
      "text/plain": "tensor([[[1, 2, 4, 5],\n         [1, 2, 4, 5]],\n\n        [[2, 3, 9, 0],\n         [2, 3, 9, 0]]])"
     },
     "metadata": {},
     "execution_count": 39
    }
   ],
   "source": [
    "test_.expand([2, 2, 4])"
   ]
  },
  {
   "cell_type": "code",
   "execution_count": 40,
   "metadata": {},
   "outputs": [
    {
     "output_type": "execute_result",
     "data": {
      "text/plain": "tensor([[1, 2, 3, 4],\n        [5, 6, 7, 8]])"
     },
     "metadata": {},
     "execution_count": 40
    }
   ],
   "source": [
    "test_1 = torch.arange(1, 9).resize_(2, 4); test_1"
   ]
  },
  {
   "cell_type": "code",
   "execution_count": 41,
   "metadata": {},
   "outputs": [],
   "source": [
    "# 扩展1维"
   ]
  },
  {
   "cell_type": "code",
   "execution_count": 42,
   "metadata": {},
   "outputs": [
    {
     "output_type": "execute_result",
     "data": {
      "text/plain": "tensor([[[1, 2, 3, 4]],\n\n        [[5, 6, 7, 8]]])"
     },
     "metadata": {},
     "execution_count": 42
    }
   ],
   "source": [
    "test_1.unsqueeze_(1); test_1"
   ]
  },
  {
   "cell_type": "code",
   "execution_count": 43,
   "metadata": {},
   "outputs": [
    {
     "output_type": "execute_result",
     "data": {
      "text/plain": "torch.Size([2, 1, 4])"
     },
     "metadata": {},
     "execution_count": 43
    }
   ],
   "source": [
    "test_1.shape"
   ]
  },
  {
   "cell_type": "code",
   "execution_count": 44,
   "metadata": {},
   "outputs": [],
   "source": [
    "# expand"
   ]
  },
  {
   "cell_type": "code",
   "execution_count": 45,
   "metadata": {},
   "outputs": [
    {
     "output_type": "execute_result",
     "data": {
      "text/plain": "tensor([[[1, 2, 3, 4],\n         [1, 2, 3, 4]],\n\n        [[5, 6, 7, 8],\n         [5, 6, 7, 8]]])"
     },
     "metadata": {},
     "execution_count": 45
    }
   ],
   "source": [
    "test_2 = test_1.expand([2, 2, 4]); test_2"
   ]
  },
  {
   "cell_type": "code",
   "execution_count": 46,
   "metadata": {
    "tags": []
   },
   "outputs": [
    {
     "output_type": "stream",
     "name": "stdout",
     "text": "torch.Size([2, 1, 4])torch.Size([2, 2, 4])\n"
    }
   ],
   "source": [
    "print(test_1.shape, test_2.shape)"
   ]
  },
  {
   "cell_type": "code",
   "execution_count": 47,
   "metadata": {},
   "outputs": [
    {
     "output_type": "execute_result",
     "data": {
      "text/plain": "tensor([1, 2, 3, 4])"
     },
     "metadata": {},
     "execution_count": 47
    }
   ],
   "source": [
    "v1 = torch.arange(1, 5); v1"
   ]
  },
  {
   "cell_type": "code",
   "execution_count": 48,
   "metadata": {},
   "outputs": [
    {
     "output_type": "execute_result",
     "data": {
      "text/plain": "tensor([1, 2, 3])"
     },
     "metadata": {},
     "execution_count": 48
    }
   ],
   "source": [
    "v2 = torch.arange(1, 4); v2"
   ]
  },
  {
   "cell_type": "code",
   "execution_count": 49,
   "metadata": {},
   "outputs": [
    {
     "output_type": "execute_result",
     "data": {
      "text/plain": "tensor([[ 1,  2,  3],\n        [ 2,  4,  6],\n        [ 3,  6,  9],\n        [ 4,  8, 12]])"
     },
     "metadata": {},
     "execution_count": 49
    }
   ],
   "source": [
    "torch.ger(v1, v2)"
   ]
  },
  {
   "cell_type": "code",
   "execution_count": 50,
   "metadata": {},
   "outputs": [
    {
     "output_type": "execute_result",
     "data": {
      "text/plain": "torch.Size([4, 3])"
     },
     "metadata": {},
     "execution_count": 50
    }
   ],
   "source": [
    "torch.ger(v1, v2).shape  # v1的转置乘以v2"
   ]
  },
  {
   "cell_type": "code",
   "execution_count": 51,
   "metadata": {},
   "outputs": [],
   "source": [
    "# 外积结果为张量，内积结果为标量"
   ]
  },
  {
   "cell_type": "code",
   "execution_count": 52,
   "metadata": {},
   "outputs": [
    {
     "output_type": "execute_result",
     "data": {
      "text/plain": "tensor([[1, 2, 3],\n        [0, 4, 6],\n        [0, 0, 9],\n        [0, 0, 0]])"
     },
     "metadata": {},
     "execution_count": 52
    }
   ],
   "source": [
    "test_triu = torch.ger(v1, v2).triu(); test_triu"
   ]
  },
  {
   "cell_type": "code",
   "execution_count": 53,
   "metadata": {},
   "outputs": [
    {
     "output_type": "execute_result",
     "data": {
      "text/plain": "tensor([[[0, 0, 0],\n         [1, 0, 0],\n         [1, 1, 0],\n         [1, 1, 1]]], dtype=torch.uint8)"
     },
     "metadata": {},
     "execution_count": 53
    }
   ],
   "source": [
    "test_triu = test_triu.eq(0).unsqueeze(0); test_triu"
   ]
  },
  {
   "cell_type": "code",
   "execution_count": 61,
   "metadata": {},
   "outputs": [],
   "source": [
    "# indices = list(range(len(context))); indices"
   ]
  },
  {
   "cell_type": "code",
   "execution_count": 62,
   "metadata": {},
   "outputs": [],
   "source": [
    "import random"
   ]
  },
  {
   "cell_type": "code",
   "execution_count": 64,
   "metadata": {},
   "outputs": [],
   "source": [
    "def bertify(self, words):\n",
    "    if self.bert_tokenizer is None:\n",
    "        return None\n",
    "    bpe = ['[CLS]']\n",
    "    x_bert_offsets = []\n",
    "    for word in words:\n",
    "        now = self.bert_tokenizer.tokenize(word)\n",
    "        x_bert_offsets.append([len(bpe), len(bpe) + len(now)])\n",
    "        bpe.extend(now)\n",
    "    bpe.append('[SEP]')\n",
    "    x_bert = self.bert_tokenizer.convert_tokens_to_ids(bpe)\n",
    "    return x_bert, x_bert_offsets"
   ]
  },
  {
   "cell_type": "code",
   "execution_count": 66,
   "metadata": {},
   "outputs": [
    {
     "output_type": "execute_result",
     "data": {
      "text/plain": "tensor([[0, 0, 0, 0, 0, 0, 0, 0, 0, 0, 0, 0, 0, 0, 0]])"
     },
     "metadata": {},
     "execution_count": 66
    }
   ],
   "source": [
    "x = torch.LongTensor(1, 15).fill_(0); x"
   ]
  },
  {
   "cell_type": "code",
   "execution_count": 69,
   "metadata": {},
   "outputs": [
    {
     "output_type": "execute_result",
     "data": {
      "text/plain": "tensor([[-1, -1, -1, -1, -1, -1, -1, -1, -1, -1, -1, -1, -1, -1, -1]])"
     },
     "metadata": {},
     "execution_count": 69
    }
   ],
   "source": [
    "y = torch.LongTensor(1, 15).fill_(-1); y"
   ]
  },
  {
   "cell_type": "code",
   "execution_count": 8,
   "metadata": {},
   "outputs": [
    {
     "output_type": "execute_result",
     "data": {
      "text/plain": "tensor([ 1, 10])"
     },
     "metadata": {},
     "execution_count": 8
    }
   ],
   "source": [
    "x = torch.LongTensor([1, 10]); x"
   ]
  },
  {
   "cell_type": "code",
   "execution_count": 10,
   "metadata": {},
   "outputs": [
    {
     "output_type": "execute_result",
     "data": {
      "text/plain": "tensor([32,  2])"
     },
     "metadata": {},
     "execution_count": 10
    }
   ],
   "source": [
    "x_ = torch.tensor([32, 2], dtype=torch.long); x_"
   ]
  },
  {
   "cell_type": "code",
   "execution_count": 24,
   "metadata": {
    "tags": []
   },
   "outputs": [],
   "source": [
    "import json\n",
    "from tqdm import tqdm"
   ]
  },
  {
   "cell_type": "code",
   "execution_count": 25,
   "metadata": {
    "tags": []
   },
   "outputs": [],
   "source": [
    "with open(file='E:\\PycharmProjects\\SDNetMyself\\coqa\\data\\coqa-dev-v1.0.json', mode='r', encoding='utf-8') as f:\n",
    "    dataset = json.load(f)"
   ]
  },
  {
   "cell_type": "code",
   "execution_count": 26,
   "metadata": {
    "tags": []
   },
   "outputs": [
    {
     "output_type": "stream",
     "name": "stdout",
     "text": "Processing json...\n500\n  0%|          | 0/500 [00:00<?, ?it/s]{'source': 'mctest', 'id': '3dr23u6we5exclen4th8uq9rb42tel', 'filename': 'mc160.test.41', 'story': 'Once upon a time, in a barn near a farm house, there lived a little white kitten named Cotton. Cotton lived high up in a nice warm place above the barn where all of the farmer\\'s horses slept. But Cotton wasn\\'t alone in her little home above the barn, oh no. She shared her hay bed with her mommy and 5 other sisters. All of her sisters were cute and fluffy, like Cotton. But she was the only white one in the bunch. The rest of her sisters were all orange with beautiful white tiger stripes like Cotton\\'s mommy. Being different made Cotton quite sad. She often wished she looked like the rest of her family. So one day, when Cotton found a can of the old farmer\\'s orange paint, she used it to paint herself like them. When her mommy and sisters found her they started laughing. \\n\\n\"What are you doing, Cotton?!\" \\n\\n\"I only wanted to be more like you\". \\n\\nCotton\\'s mommy rubbed her face on Cotton\\'s and said \"Oh Cotton, but your fur is so pretty and special, like you. We would never want you to be any other way\". And with that, Cotton\\'s mommy picked her up and dropped her into a big bucket of water. When Cotton came out she was herself again. Her sisters licked her face until Cotton\\'s fur was all all dry. \\n\\n\"Don\\'t ever do that again, Cotton!\" they all cried. \"Next time you might mess up that pretty white fur of yours and we wouldn\\'t want that!\" \\n\\nThen Cotton thought, \"I change my mind. I like being special\".', 'questions': [{'input_text': 'What color was Cotton?', 'turn_id': 1}, {'input_text': 'Where did she live?', 'turn_id': 2}, {'input_text': 'Did she live alone?', 'turn_id': 3}, {'input_text': 'Who did she live with?', 'turn_id': 4}, {'input_text': 'What color were her sisters?', 'turn_id': 5}, {'input_text': 'Was Cotton happy that she looked different than the rest of her family?', 'turn_id': 6}, {'input_text': 'What did she do to try to make herself the same color as her sisters?', 'turn_id': 7}, {'input_text': 'Whose paint was it?', 'turn_id': 8}, {'input_text': \"What did Cotton's mother and siblings do when they saw her painted orange?\", 'turn_id': 9}, {'input_text': \"Where did Cotton's mother put her to clean the paint off?\", 'turn_id': 10}, {'input_text': 'What did the other cats do when Cotton emerged from the bucket of water?', 'turn_id': 11}, {'input_text': 'Did they want Cotton to change the color of her fur?', 'turn_id': 12}], 'answers': [{'span_start': 59, 'span_end': 93, 'span_text': 'a little white kitten named Cotton', 'input_text': 'white', 'turn_id': 1}, {'span_start': 18, 'span_end': 80, 'span_text': 'in a barn near a farm house, there lived a little white kitten', 'input_text': 'in a barn', 'turn_id': 2}, {'span_start': 196, 'span_end': 215, 'span_text': \"Cotton wasn't alone\", 'input_text': 'no', 'turn_id': 3}, {'span_start': 281, 'span_end': 315, 'span_text': 'with her mommy and 5 other sisters', 'input_text': 'with her mommy and 5 sisters', 'turn_id': 4}, {'span_start': 428, 'span_end': 490, 'span_text': 'her sisters were all orange with beautiful white tiger stripes', 'input_text': 'orange and white', 'turn_id': 5}, {'span_start': 512, 'span_end': 549, 'span_text': 'Being different made Cotton quite sad', 'input_text': 'no', 'turn_id': 6}, {'span_start': 678, 'span_end': 716, 'span_text': 'she used it to paint herself like them', 'input_text': 'she painted herself', 'turn_id': 7}, {'span_start': 647, 'span_end': 676, 'span_text': \"the old farmer's orange paint\", 'input_text': 'the farmer', 'turn_id': 8}, {'span_start': 718, 'span_end': 776, 'span_text': 'When her mommy and sisters found her they started laughing', 'input_text': 'they started laughing', 'turn_id': 9}, {'span_start': 1035, 'span_end': 1097, 'span_text': 'mommy picked her up and dropped her into a big bucket of water', 'input_text': 'a bucket of water', 'turn_id': 10}, {'span_start': 1143, 'span_end': 1170, 'span_text': 'Her sisters licked her face', 'input_text': 'licked her face', 'turn_id': 11}, {'span_start': 965, 'span_end': 1008, 'span_text': 'We would never want you to be any other way', 'input_text': 'no', 'turn_id': 12}], 'additional_answers': {'0': [{'span_start': 68, 'span_end': 93, 'span_text': 'white kitten named Cotton', 'input_text': 'white', 'turn_id': 1}, {'span_start': 17, 'span_end': 93, 'span_text': ' in a barn near a farm house, there lived a little white kitten named Cotton', 'input_text': 'in a barn', 'turn_id': 2}, {'span_start': 192, 'span_end': 215, 'span_text': \"But Cotton wasn't alone\", 'input_text': 'no', 'turn_id': 3}, {'span_start': 258, 'span_end': 315, 'span_text': 'She shared her hay bed with her mommy and 5 other sisters', 'input_text': 'her mommy and 5 other sisters', 'turn_id': 4}, {'span_start': 416, 'span_end': 490, 'span_text': 'The rest of her sisters were all orange with beautiful white tiger stripes', 'input_text': 'orange with white tiger stripes', 'turn_id': 5}, {'span_start': 512, 'span_end': 549, 'span_text': 'Being different made Cotton quite sad', 'input_text': 'no', 'turn_id': 6}, {'span_start': 678, 'span_end': 716, 'span_text': 'she used it to paint herself like them', 'input_text': 'she painted herself', 'turn_id': 7}, {'span_start': 655, 'span_end': 676, 'span_text': \"farmer's orange paint\", 'input_text': \"the farmer's\", 'turn_id': 8}, {'span_start': 718, 'span_end': 777, 'span_text': 'When her mommy and sisters found her they started laughing.', 'input_text': 'they started laughing', 'turn_id': 9}, {'span_start': 1059, 'span_end': 1097, 'span_text': 'dropped her into a big bucket of water', 'input_text': 'dropped her into a big bucket of water', 'turn_id': 10}, {'span_start': 1143, 'span_end': 1171, 'span_text': 'Her sisters licked her face ', 'input_text': 'licked her face', 'turn_id': 11}, {'span_start': 1209, 'span_end': 1244, 'span_text': '\"Don\\'t ever do that again, Cotton!\"', 'input_text': 'no', 'turn_id': 12}], '1': [{'span_start': 68, 'span_end': 74, 'span_text': 'white ', 'input_text': 'white', 'turn_id': 1}, {'span_start': 18, 'span_end': 27, 'span_text': 'in a barn', 'input_text': 'in a barn', 'turn_id': 2}, {'span_start': 202, 'span_end': 215, 'span_text': \" wasn't alone\", 'input_text': 'No', 'turn_id': 3}, {'span_start': 286, 'span_end': 315, 'span_text': 'her mommy and 5 other sisters', 'input_text': 'her mommy and 5 other sisters', 'turn_id': 4}, {'span_start': 449, 'span_end': 456, 'span_text': 'orange ', 'input_text': 'orange', 'turn_id': 5}, {'span_start': 546, 'span_end': 549, 'span_text': 'sad', 'input_text': 'No', 'turn_id': 6}, {'span_start': 693, 'span_end': 716, 'span_text': 'paint herself like them', 'input_text': 'paint herself like them', 'turn_id': 7}, {'span_start': 647, 'span_end': 663, 'span_text': \"the old farmer's\", 'input_text': \"the old farmer's\", 'turn_id': 8}, {'span_start': 866, 'span_end': 882, 'span_text': ' rubbed her face', 'input_text': 'rubbed her face', 'turn_id': 9}, {'span_start': 1071, 'span_end': 1097, 'span_text': 'into a big bucket of water', 'input_text': 'into a big bucket of water', 'turn_id': 10}, {'span_start': 1154, 'span_end': 1170, 'span_text': ' licked her face', 'input_text': 'licked her face', 'turn_id': 11}, {'span_start': 974, 'span_end': 1008, 'span_text': 'never want you to be any other way', 'input_text': 'No', 'turn_id': 12}], '2': [{'span_start': 68, 'span_end': 94, 'span_text': 'white kitten named Cotton.', 'input_text': 'white', 'turn_id': 1}, {'span_start': 17, 'span_end': 94, 'span_text': ' in a barn near a farm house, there lived a little white kitten named Cotton.', 'input_text': 'in a barn near', 'turn_id': 2}, {'span_start': 191, 'span_end': 316, 'span_text': \" But Cotton wasn't alone in her little home above the barn, oh no. She shared her hay bed with her mommy and 5 other sisters.\", 'input_text': 'no', 'turn_id': 3}, {'span_start': 258, 'span_end': 316, 'span_text': 'She shared her hay bed with her mommy and 5 other sisters.', 'input_text': 'her mommy and 5 other sisters', 'turn_id': 4}, {'span_start': 416, 'span_end': 511, 'span_text': \"The rest of her sisters were all orange with beautiful white tiger stripes like Cotton's mommy.\", 'input_text': 'orange', 'turn_id': 5}, {'span_start': 512, 'span_end': 550, 'span_text': 'Being different made Cotton quite sad.', 'input_text': 'no', 'turn_id': 6}, {'span_start': 607, 'span_end': 718, 'span_text': \" So one day, when Cotton found a can of the old farmer's orange paint, she used it to paint herself like them. \", 'input_text': 'paint herself like them', 'turn_id': 7}, {'span_start': 608, 'span_end': 676, 'span_text': \"So one day, when Cotton found a can of the old farmer's orange paint\", 'input_text': \"the farmer's\", 'turn_id': 8}, {'span_start': 718, 'span_end': 778, 'span_text': 'When her mommy and sisters found her they started laughing. ', 'input_text': 'started laughing', 'turn_id': 9}, {'span_start': 1011, 'span_end': 1098, 'span_text': \"And with that, Cotton's mommy picked her up and dropped her into a big bucket of water.\", 'input_text': 'a big bucket of water', 'turn_id': 10}, {'span_start': 1142, 'span_end': 1207, 'span_text': \" Her sisters licked her face until Cotton's fur was all all dry. \", 'input_text': 'licked her face', 'turn_id': 11}, {'span_start': 1209, 'span_end': 1260, 'span_text': '\"Don\\'t ever do that again, Cotton!\" they all cried.', 'input_text': 'no', 'turn_id': 12}]}, 'name': 'mc160.test.41'}\n\n"
    }
   ],
   "source": [
    "print('Processing json...')\n",
    "data = []\n",
    "tot = len(dataset['data'])\n",
    "print(tot)\n",
    "for data_idx in tqdm(range(tot)):\n",
    "    datum = dataset['data'][data_idx]\n",
    "    print(datum)\n",
    "    break"
   ]
  },
  {
   "cell_type": "code",
   "execution_count": null,
   "metadata": {},
   "outputs": [],
   "source": []
  }
 ]
}