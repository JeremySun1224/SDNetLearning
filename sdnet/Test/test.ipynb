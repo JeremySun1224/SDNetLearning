{
 "metadata": {
  "language_info": {
   "codemirror_mode": {
    "name": "ipython",
    "version": 3
   },
   "file_extension": ".py",
   "mimetype": "text/x-python",
   "name": "python",
   "nbconvert_exporter": "python",
   "pygments_lexer": "ipython3",
   "version": "3.6.9-final"
  },
  "orig_nbformat": 2,
  "kernelspec": {
   "name": "python_defaultSpec_1600395586797",
   "display_name": "Python 3.6.9 64-bit ('Torch10': conda)"
  }
 },
 "nbformat": 4,
 "nbformat_minor": 2,
 "cells": [
  {
   "cell_type": "code",
   "execution_count": 39,
   "metadata": {},
   "outputs": [],
   "source": [
    "import torch\n",
    "import re\n",
    "import sys\n",
    "import spacy\n",
    "import unicodedata\n",
    "import numpy as np\n",
    "from torch.autograd import Variable"
   ]
  },
  {
   "cell_type": "code",
   "execution_count": 42,
   "metadata": {},
   "outputs": [
    {
     "output_type": "execute_result",
     "data": {
      "text/plain": "'D:\\\\Anaconda3\\\\envs\\\\Torch10\\\\python.exe'"
     },
     "metadata": {},
     "execution_count": 42
    }
   ],
   "source": [
    "sys.executable"
   ]
  },
  {
   "cell_type": "code",
   "execution_count": 43,
   "metadata": {},
   "outputs": [
    {
     "output_type": "execute_result",
     "data": {
      "text/plain": "'1.0.1'"
     },
     "metadata": {},
     "execution_count": 43
    }
   ],
   "source": [
    "torch.__version__"
   ]
  },
  {
   "cell_type": "code",
   "execution_count": 44,
   "metadata": {},
   "outputs": [],
   "source": [
    "use_cuda = ['GPU:0' if torch.cuda.is_available() else 'CPU']"
   ]
  },
  {
   "cell_type": "code",
   "execution_count": 6,
   "metadata": {},
   "outputs": [],
   "source": [
    "nlp = spacy.load('en_core_web_sm', parser=False)"
   ]
  },
  {
   "cell_type": "code",
   "execution_count": 5,
   "metadata": {},
   "outputs": [],
   "source": [
    "# nlp.tagger.labels"
   ]
  },
  {
   "cell_type": "code",
   "execution_count": 6,
   "metadata": {},
   "outputs": [],
   "source": [
    "# {w: i for i, w in enumerate([''] + list(nlp.tagger.labels))}"
   ]
  },
  {
   "cell_type": "code",
   "execution_count": 7,
   "metadata": {},
   "outputs": [],
   "source": [
    "# {w: i for i, w in enumerate([''] + list(nlp.entity.move_names))}"
   ]
  },
  {
   "cell_type": "code",
   "execution_count": 8,
   "metadata": {},
   "outputs": [],
   "source": [
    "sentence='Beijing like NLP.'"
   ]
  },
  {
   "cell_type": "code",
   "execution_count": 9,
   "metadata": {
    "tags": []
   },
   "outputs": [
    {
     "output_type": "execute_result",
     "data": {
      "text/plain": "Beijing like NLP."
     },
     "metadata": {},
     "execution_count": 9
    }
   ],
   "source": [
    "raw_tokens = nlp(sentence); raw_tokens"
   ]
  },
  {
   "cell_type": "code",
   "execution_count": 10,
   "metadata": {
    "tags": []
   },
   "outputs": [
    {
     "output_type": "stream",
     "name": "stdout",
     "text": "Beijing||FalseFalseGPENNP\nlike||FalseFalseIN\nNLP||FalseFalseORGNNP\n.||TrueFalse.\n"
    }
   ],
   "source": [
    "for token in raw_tokens:\n",
    "    print(token, '||', token.is_punct, token.is_space, token.ent_type_, token.tag_)"
   ]
  },
  {
   "cell_type": "code",
   "execution_count": 11,
   "metadata": {},
   "outputs": [
    {
     "output_type": "execute_result",
     "data": {
      "text/plain": "array([[ 0.79698305,  0.83702857, -0.80461536,  0.55461405,  0.48790577],\n       [-0.94797244,  0.48171392, -0.46968296, -0.31926014,  0.29292209],\n       [-0.91648382,  0.73219536, -0.65105157,  0.60447115,  0.62223631],\n       [-0.96032186, -0.52267581,  0.12606397, -0.43089066, -0.9127302 ],\n       [-0.30685928, -0.36128405,  0.10142948, -0.60657699, -0.52494669]])"
     },
     "metadata": {},
     "execution_count": 11
    }
   ],
   "source": [
    "np.random.uniform(-1, 1, size=(5, 5))"
   ]
  },
  {
   "cell_type": "code",
   "execution_count": 12,
   "metadata": {},
   "outputs": [],
   "source": [
    "test = [x for x in range(1, 11)]"
   ]
  },
  {
   "cell_type": "code",
   "execution_count": 13,
   "metadata": {},
   "outputs": [
    {
     "output_type": "execute_result",
     "data": {
      "text/plain": "[1, 2, 3, 4, 5, 6, 7, 8]"
     },
     "metadata": {},
     "execution_count": 13
    }
   ],
   "source": [
    "test[0: -2]"
   ]
  },
  {
   "cell_type": "code",
   "execution_count": 14,
   "metadata": {},
   "outputs": [],
   "source": [
    "# -2只是索引位置"
   ]
  },
  {
   "cell_type": "code",
   "execution_count": 15,
   "metadata": {
    "tags": []
   },
   "outputs": [],
   "source": [
    "def char2id_sent(sent, c2id, unk_id=None, to_lower=False):\n",
    "    if to_lower:\n",
    "        sent = sent.lower()\n",
    "    cids = [[c2id['<STA>'] + [c2id[c] if c in c2id else unk_id for c in w] + [c2id['<END>']]] for w in sent]\n",
    "    return cids"
   ]
  },
  {
   "cell_type": "code",
   "execution_count": 16,
   "metadata": {},
   "outputs": [],
   "source": [
    "from collections import Counter"
   ]
  },
  {
   "cell_type": "code",
   "execution_count": 17,
   "metadata": {},
   "outputs": [],
   "source": [
    "context = \"Don't break my heart.\""
   ]
  },
  {
   "cell_type": "code",
   "execution_count": 18,
   "metadata": {},
   "outputs": [],
   "source": [
    "doc = nlp(context)"
   ]
  },
  {
   "cell_type": "code",
   "execution_count": 31,
   "metadata": {
    "tags": []
   },
   "outputs": [
    {
     "output_type": "stream",
     "name": "stdout",
     "text": "Do do\nn't not\nbreak break\nmy -PRON-\nheart heart\n. .\n"
    }
   ],
   "source": []
  },
  {
   "cell_type": "code",
   "execution_count": 19,
   "metadata": {},
   "outputs": [],
   "source": [
    "lemma = {token.lemma_ if token.lemma_ != '-PRON-' else token.text.lower() for token in doc}"
   ]
  },
  {
   "cell_type": "code",
   "execution_count": 20,
   "metadata": {},
   "outputs": [
    {
     "output_type": "execute_result",
     "data": {
      "text/plain": "{'.', 'break', 'do', 'heart', 'my', 'not'}"
     },
     "metadata": {},
     "execution_count": 20
    }
   ],
   "source": [
    "lemma"
   ]
  },
  {
   "cell_type": "code",
   "execution_count": 21,
   "metadata": {},
   "outputs": [],
   "source": [
    "lemma_ = {token.text.lower() for token in doc}  # 未拿回单词原型"
   ]
  },
  {
   "cell_type": "code",
   "execution_count": 22,
   "metadata": {},
   "outputs": [
    {
     "output_type": "execute_result",
     "data": {
      "text/plain": "{'.', 'break', 'do', 'heart', 'my', \"n't\"}"
     },
     "metadata": {},
     "execution_count": 22
    }
   ],
   "source": [
    "lemma_"
   ]
  },
  {
   "cell_type": "code",
   "execution_count": 23,
   "metadata": {},
   "outputs": [],
   "source": [
    "_lemma = {token.lemma_ for token in doc}"
   ]
  },
  {
   "cell_type": "code",
   "execution_count": 24,
   "metadata": {},
   "outputs": [
    {
     "output_type": "execute_result",
     "data": {
      "text/plain": "{'-PRON-', '.', 'break', 'do', 'heart', 'not'}"
     },
     "metadata": {},
     "execution_count": 24
    }
   ],
   "source": [
    "_lemma"
   ]
  },
  {
   "cell_type": "code",
   "execution_count": 25,
   "metadata": {},
   "outputs": [
    {
     "output_type": "execute_result",
     "data": {
      "text/plain": "{'.', 'Do', 'break', 'heart', 'my', \"n't\"}"
     },
     "metadata": {},
     "execution_count": 25
    }
   ],
   "source": [
    "question_word = {token.text for token in doc}; question_word"
   ]
  },
  {
   "cell_type": "code",
   "execution_count": 26,
   "metadata": {},
   "outputs": [
    {
     "output_type": "execute_result",
     "data": {
      "text/plain": "{'.', 'break', 'do', 'heart', 'my', 'not'}"
     },
     "metadata": {},
     "execution_count": 26
    }
   ],
   "source": [
    "question_lemma = {token.lemma_ if token.lemma_ != '-PRON-' else token.text for token in doc}; question_lemma"
   ]
  },
  {
   "cell_type": "code",
   "execution_count": 27,
   "metadata": {},
   "outputs": [
    {
     "output_type": "execute_result",
     "data": {
      "text/plain": "[True, True, True, True, True, True]"
     },
     "metadata": {},
     "execution_count": 27
    }
   ],
   "source": [
    "match_origin = [token.text in question_word for token in doc]; match_origin"
   ]
  },
  {
   "cell_type": "code",
   "execution_count": 28,
   "metadata": {},
   "outputs": [],
   "source": [
    "def feature_gen(context, question):\n",
    "    counter_ = Counter(w.text.lower() for w in context)\n",
    "    total = sum(counter_.values())\n",
    "    term_freq = [counter_[w.text.lower()] / total for w in context]\n",
    "    question_word = {w.text for w in question}  # 集合\n",
    "    question_lemma = {w.lemma_ if w != '-PRON-' else w.text.lower() for w in question}  # To lemma_, the base form of the word.\n",
    "    match_origin = [w.text in question_word for w in context]\n",
    "    match_lower = [w.text.lower() in question_word for w in context]\n",
    "    match_lemma = [(w.lemma_ if w.lemma_ != '-PRON-' else w.text.lower()) in question_lemma for w in context]\n",
    "    C_features = list(zip(term_freq, match_origin, match_lower, match_lemma))\n",
    "    return C_features"
   ]
  },
  {
   "cell_type": "code",
   "execution_count": 29,
   "metadata": {},
   "outputs": [],
   "source": [
    "context = \"Once there was a beautiful fish named Asta. Asta lived in the ocean. There were lots of other fish in the ocean where Asta lived. They played all day long. \\n\\nOne day, a bottle floated by over the heads of Asta and his friends. They looked up and saw the bottle. \\\"What is it?\\\" said Asta's friend Sharkie. \\\"It looks like a bird's belly,\\\" said Asta. But when they swam closer, it was not a bird's belly. It was hard and clear, and there was something inside it. \\n\\nThe bottle floated above them. They wanted to open it. They wanted to see what was inside. So they caught the bottle and carried it down to the bottom of the ocean. They cracked it open on a rock. When they got it open, they found what was inside. It was a note. The note was written in orange crayon on white paper. Asta could not read the note. Sharkie could not read the note. They took the note to Asta's papa. \\\"What does it say?\\\" they asked. \\n\\nAsta's papa read the note. He told Asta and Sharkie, \\\"This note is from a little girl. She wants to be your friend. If you want to be her friend, we can write a note to her. But you have to find another bottle so we can send it to her.\\\" And that is what they did.\""
   ]
  },
  {
   "cell_type": "code",
   "execution_count": 30,
   "metadata": {},
   "outputs": [],
   "source": [
    "question = \"what was the name of the fish, What looked like a birds belly\""
   ]
  },
  {
   "cell_type": "code",
   "execution_count": 31,
   "metadata": {},
   "outputs": [],
   "source": [
    "question = nlp(question)"
   ]
  },
  {
   "cell_type": "code",
   "execution_count": 32,
   "metadata": {},
   "outputs": [],
   "source": [
    "context = nlp(context)"
   ]
  },
  {
   "cell_type": "code",
   "execution_count": 33,
   "metadata": {},
   "outputs": [
    {
     "output_type": "execute_result",
     "data": {
      "text/plain": "tensor([[1, 2, 4, 5],\n        [2, 3, 9, 0]])"
     },
     "metadata": {},
     "execution_count": 33
    }
   ],
   "source": [
    "test = torch.tensor([\n",
    "    [1, 2, 4, 5],\n",
    "    [2, 3, 9, 0]\n",
    "]); test"
   ]
  },
  {
   "cell_type": "code",
   "execution_count": 34,
   "metadata": {},
   "outputs": [
    {
     "output_type": "execute_result",
     "data": {
      "text/plain": "torch.Size([2, 4])"
     },
     "metadata": {},
     "execution_count": 34
    }
   ],
   "source": [
    "test.shape"
   ]
  },
  {
   "cell_type": "code",
   "execution_count": 35,
   "metadata": {},
   "outputs": [
    {
     "output_type": "execute_result",
     "data": {
      "text/plain": "tensor([[[1, 2, 4, 5]],\n\n        [[2, 3, 9, 0]]])"
     },
     "metadata": {},
     "execution_count": 35
    }
   ],
   "source": [
    "test_ = test.unsqueeze(1); test_"
   ]
  },
  {
   "cell_type": "code",
   "execution_count": 36,
   "metadata": {},
   "outputs": [
    {
     "output_type": "execute_result",
     "data": {
      "text/plain": "torch.Size([2, 1, 4])"
     },
     "metadata": {},
     "execution_count": 36
    }
   ],
   "source": [
    "test_.shape"
   ]
  },
  {
   "cell_type": "code",
   "execution_count": 37,
   "metadata": {},
   "outputs": [
    {
     "output_type": "execute_result",
     "data": {
      "text/plain": "tensor([[[1, 2, 4, 5]],\n\n        [[2, 3, 9, 0]]])"
     },
     "metadata": {},
     "execution_count": 37
    }
   ],
   "source": [
    "test_"
   ]
  },
  {
   "cell_type": "code",
   "execution_count": 38,
   "metadata": {},
   "outputs": [],
   "source": [
    "# 将张量广播到新形状"
   ]
  },
  {
   "cell_type": "code",
   "execution_count": 39,
   "metadata": {},
   "outputs": [
    {
     "output_type": "execute_result",
     "data": {
      "text/plain": "tensor([[[1, 2, 4, 5],\n         [1, 2, 4, 5]],\n\n        [[2, 3, 9, 0],\n         [2, 3, 9, 0]]])"
     },
     "metadata": {},
     "execution_count": 39
    }
   ],
   "source": [
    "test_.expand([2, 2, 4])"
   ]
  },
  {
   "cell_type": "code",
   "execution_count": 40,
   "metadata": {},
   "outputs": [
    {
     "output_type": "execute_result",
     "data": {
      "text/plain": "tensor([[1, 2, 3, 4],\n        [5, 6, 7, 8]])"
     },
     "metadata": {},
     "execution_count": 40
    }
   ],
   "source": [
    "test_1 = torch.arange(1, 9).resize_(2, 4); test_1"
   ]
  },
  {
   "cell_type": "code",
   "execution_count": 41,
   "metadata": {},
   "outputs": [],
   "source": [
    "# 扩展1维"
   ]
  },
  {
   "cell_type": "code",
   "execution_count": 42,
   "metadata": {},
   "outputs": [
    {
     "output_type": "execute_result",
     "data": {
      "text/plain": "tensor([[[1, 2, 3, 4]],\n\n        [[5, 6, 7, 8]]])"
     },
     "metadata": {},
     "execution_count": 42
    }
   ],
   "source": [
    "test_1.unsqueeze_(1); test_1"
   ]
  },
  {
   "cell_type": "code",
   "execution_count": 43,
   "metadata": {},
   "outputs": [
    {
     "output_type": "execute_result",
     "data": {
      "text/plain": "torch.Size([2, 1, 4])"
     },
     "metadata": {},
     "execution_count": 43
    }
   ],
   "source": [
    "test_1.shape"
   ]
  },
  {
   "cell_type": "code",
   "execution_count": 44,
   "metadata": {},
   "outputs": [],
   "source": [
    "# expand"
   ]
  },
  {
   "cell_type": "code",
   "execution_count": 45,
   "metadata": {},
   "outputs": [
    {
     "output_type": "execute_result",
     "data": {
      "text/plain": "tensor([[[1, 2, 3, 4],\n         [1, 2, 3, 4]],\n\n        [[5, 6, 7, 8],\n         [5, 6, 7, 8]]])"
     },
     "metadata": {},
     "execution_count": 45
    }
   ],
   "source": [
    "test_2 = test_1.expand([2, 2, 4]); test_2"
   ]
  },
  {
   "cell_type": "code",
   "execution_count": 46,
   "metadata": {
    "tags": []
   },
   "outputs": [
    {
     "output_type": "stream",
     "name": "stdout",
     "text": "torch.Size([2, 1, 4])torch.Size([2, 2, 4])\n"
    }
   ],
   "source": [
    "print(test_1.shape, test_2.shape)"
   ]
  },
  {
   "cell_type": "code",
   "execution_count": 47,
   "metadata": {},
   "outputs": [
    {
     "output_type": "execute_result",
     "data": {
      "text/plain": "tensor([1, 2, 3, 4])"
     },
     "metadata": {},
     "execution_count": 47
    }
   ],
   "source": [
    "v1 = torch.arange(1, 5); v1"
   ]
  },
  {
   "cell_type": "code",
   "execution_count": 48,
   "metadata": {},
   "outputs": [
    {
     "output_type": "execute_result",
     "data": {
      "text/plain": "tensor([1, 2, 3])"
     },
     "metadata": {},
     "execution_count": 48
    }
   ],
   "source": [
    "v2 = torch.arange(1, 4); v2"
   ]
  },
  {
   "cell_type": "code",
   "execution_count": 49,
   "metadata": {},
   "outputs": [
    {
     "output_type": "execute_result",
     "data": {
      "text/plain": "tensor([[ 1,  2,  3],\n        [ 2,  4,  6],\n        [ 3,  6,  9],\n        [ 4,  8, 12]])"
     },
     "metadata": {},
     "execution_count": 49
    }
   ],
   "source": [
    "torch.ger(v1, v2)"
   ]
  },
  {
   "cell_type": "code",
   "execution_count": 50,
   "metadata": {},
   "outputs": [
    {
     "output_type": "execute_result",
     "data": {
      "text/plain": "torch.Size([4, 3])"
     },
     "metadata": {},
     "execution_count": 50
    }
   ],
   "source": [
    "torch.ger(v1, v2).shape  # v1的转置乘以v2"
   ]
  },
  {
   "cell_type": "code",
   "execution_count": 51,
   "metadata": {},
   "outputs": [],
   "source": [
    "# 外积结果为张量，内积结果为标量"
   ]
  },
  {
   "cell_type": "code",
   "execution_count": 52,
   "metadata": {},
   "outputs": [
    {
     "output_type": "execute_result",
     "data": {
      "text/plain": "tensor([[1, 2, 3],\n        [0, 4, 6],\n        [0, 0, 9],\n        [0, 0, 0]])"
     },
     "metadata": {},
     "execution_count": 52
    }
   ],
   "source": [
    "test_triu = torch.ger(v1, v2).triu(); test_triu"
   ]
  },
  {
   "cell_type": "code",
   "execution_count": 53,
   "metadata": {},
   "outputs": [
    {
     "output_type": "execute_result",
     "data": {
      "text/plain": "tensor([[[0, 0, 0],\n         [1, 0, 0],\n         [1, 1, 0],\n         [1, 1, 1]]], dtype=torch.uint8)"
     },
     "metadata": {},
     "execution_count": 53
    }
   ],
   "source": [
    "test_triu = test_triu.eq(0).unsqueeze(0); test_triu"
   ]
  },
  {
   "cell_type": "code",
   "execution_count": 61,
   "metadata": {},
   "outputs": [],
   "source": [
    "# indices = list(range(len(context))); indices"
   ]
  },
  {
   "cell_type": "code",
   "execution_count": 62,
   "metadata": {},
   "outputs": [],
   "source": [
    "import random"
   ]
  },
  {
   "cell_type": "code",
   "execution_count": 64,
   "metadata": {},
   "outputs": [],
   "source": [
    "def bertify(self, words):\n",
    "    if self.bert_tokenizer is None:\n",
    "        return None\n",
    "    bpe = ['[CLS]']\n",
    "    x_bert_offsets = []\n",
    "    for word in words:\n",
    "        now = self.bert_tokenizer.tokenize(word)\n",
    "        x_bert_offsets.append([len(bpe), len(bpe) + len(now)])\n",
    "        bpe.extend(now)\n",
    "    bpe.append('[SEP]')\n",
    "    x_bert = self.bert_tokenizer.convert_tokens_to_ids(bpe)\n",
    "    return x_bert, x_bert_offsets"
   ]
  },
  {
   "cell_type": "code",
   "execution_count": 66,
   "metadata": {},
   "outputs": [
    {
     "output_type": "execute_result",
     "data": {
      "text/plain": "tensor([[0, 0, 0, 0, 0, 0, 0, 0, 0, 0, 0, 0, 0, 0, 0]])"
     },
     "metadata": {},
     "execution_count": 66
    }
   ],
   "source": [
    "x = torch.LongTensor(1, 15).fill_(0); x"
   ]
  },
  {
   "cell_type": "code",
   "execution_count": 69,
   "metadata": {},
   "outputs": [
    {
     "output_type": "execute_result",
     "data": {
      "text/plain": "tensor([[-1, -1, -1, -1, -1, -1, -1, -1, -1, -1, -1, -1, -1, -1, -1]])"
     },
     "metadata": {},
     "execution_count": 69
    }
   ],
   "source": [
    "y = torch.LongTensor(1, 15).fill_(-1); y"
   ]
  },
  {
   "cell_type": "code",
   "execution_count": 8,
   "metadata": {},
   "outputs": [
    {
     "output_type": "execute_result",
     "data": {
      "text/plain": "tensor([ 1, 10])"
     },
     "metadata": {},
     "execution_count": 8
    }
   ],
   "source": [
    "x = torch.LongTensor([1, 10]); x"
   ]
  },
  {
   "cell_type": "code",
   "execution_count": 10,
   "metadata": {},
   "outputs": [
    {
     "output_type": "execute_result",
     "data": {
      "text/plain": "tensor([32,  2])"
     },
     "metadata": {},
     "execution_count": 10
    }
   ],
   "source": [
    "x_ = torch.tensor([32, 2], dtype=torch.long); x_"
   ]
  },
  {
   "cell_type": "code",
   "execution_count": 24,
   "metadata": {
    "tags": []
   },
   "outputs": [],
   "source": [
    "import json\n",
    "from tqdm import tqdm"
   ]
  },
  {
   "cell_type": "code",
   "execution_count": 25,
   "metadata": {
    "tags": []
   },
   "outputs": [],
   "source": [
    "with open(file='E:\\PycharmProjects\\SDNetMyself\\coqa\\data\\coqa-dev-v1.0.json', mode='r', encoding='utf-8') as f:\n",
    "    dataset = json.load(f)"
   ]
  },
  {
   "cell_type": "code",
   "execution_count": 26,
   "metadata": {
    "tags": []
   },
   "outputs": [
    {
     "output_type": "stream",
     "name": "stdout",
     "text": "Processing json...\n500\n  0%|          | 0/500 [00:00<?, ?it/s]{'source': 'mctest', 'id': '3dr23u6we5exclen4th8uq9rb42tel', 'filename': 'mc160.test.41', 'story': 'Once upon a time, in a barn near a farm house, there lived a little white kitten named Cotton. Cotton lived high up in a nice warm place above the barn where all of the farmer\\'s horses slept. But Cotton wasn\\'t alone in her little home above the barn, oh no. She shared her hay bed with her mommy and 5 other sisters. All of her sisters were cute and fluffy, like Cotton. But she was the only white one in the bunch. The rest of her sisters were all orange with beautiful white tiger stripes like Cotton\\'s mommy. Being different made Cotton quite sad. She often wished she looked like the rest of her family. So one day, when Cotton found a can of the old farmer\\'s orange paint, she used it to paint herself like them. When her mommy and sisters found her they started laughing. \\n\\n\"What are you doing, Cotton?!\" \\n\\n\"I only wanted to be more like you\". \\n\\nCotton\\'s mommy rubbed her face on Cotton\\'s and said \"Oh Cotton, but your fur is so pretty and special, like you. We would never want you to be any other way\". And with that, Cotton\\'s mommy picked her up and dropped her into a big bucket of water. When Cotton came out she was herself again. Her sisters licked her face until Cotton\\'s fur was all all dry. \\n\\n\"Don\\'t ever do that again, Cotton!\" they all cried. \"Next time you might mess up that pretty white fur of yours and we wouldn\\'t want that!\" \\n\\nThen Cotton thought, \"I change my mind. I like being special\".', 'questions': [{'input_text': 'What color was Cotton?', 'turn_id': 1}, {'input_text': 'Where did she live?', 'turn_id': 2}, {'input_text': 'Did she live alone?', 'turn_id': 3}, {'input_text': 'Who did she live with?', 'turn_id': 4}, {'input_text': 'What color were her sisters?', 'turn_id': 5}, {'input_text': 'Was Cotton happy that she looked different than the rest of her family?', 'turn_id': 6}, {'input_text': 'What did she do to try to make herself the same color as her sisters?', 'turn_id': 7}, {'input_text': 'Whose paint was it?', 'turn_id': 8}, {'input_text': \"What did Cotton's mother and siblings do when they saw her painted orange?\", 'turn_id': 9}, {'input_text': \"Where did Cotton's mother put her to clean the paint off?\", 'turn_id': 10}, {'input_text': 'What did the other cats do when Cotton emerged from the bucket of water?', 'turn_id': 11}, {'input_text': 'Did they want Cotton to change the color of her fur?', 'turn_id': 12}], 'answers': [{'span_start': 59, 'span_end': 93, 'span_text': 'a little white kitten named Cotton', 'input_text': 'white', 'turn_id': 1}, {'span_start': 18, 'span_end': 80, 'span_text': 'in a barn near a farm house, there lived a little white kitten', 'input_text': 'in a barn', 'turn_id': 2}, {'span_start': 196, 'span_end': 215, 'span_text': \"Cotton wasn't alone\", 'input_text': 'no', 'turn_id': 3}, {'span_start': 281, 'span_end': 315, 'span_text': 'with her mommy and 5 other sisters', 'input_text': 'with her mommy and 5 sisters', 'turn_id': 4}, {'span_start': 428, 'span_end': 490, 'span_text': 'her sisters were all orange with beautiful white tiger stripes', 'input_text': 'orange and white', 'turn_id': 5}, {'span_start': 512, 'span_end': 549, 'span_text': 'Being different made Cotton quite sad', 'input_text': 'no', 'turn_id': 6}, {'span_start': 678, 'span_end': 716, 'span_text': 'she used it to paint herself like them', 'input_text': 'she painted herself', 'turn_id': 7}, {'span_start': 647, 'span_end': 676, 'span_text': \"the old farmer's orange paint\", 'input_text': 'the farmer', 'turn_id': 8}, {'span_start': 718, 'span_end': 776, 'span_text': 'When her mommy and sisters found her they started laughing', 'input_text': 'they started laughing', 'turn_id': 9}, {'span_start': 1035, 'span_end': 1097, 'span_text': 'mommy picked her up and dropped her into a big bucket of water', 'input_text': 'a bucket of water', 'turn_id': 10}, {'span_start': 1143, 'span_end': 1170, 'span_text': 'Her sisters licked her face', 'input_text': 'licked her face', 'turn_id': 11}, {'span_start': 965, 'span_end': 1008, 'span_text': 'We would never want you to be any other way', 'input_text': 'no', 'turn_id': 12}], 'additional_answers': {'0': [{'span_start': 68, 'span_end': 93, 'span_text': 'white kitten named Cotton', 'input_text': 'white', 'turn_id': 1}, {'span_start': 17, 'span_end': 93, 'span_text': ' in a barn near a farm house, there lived a little white kitten named Cotton', 'input_text': 'in a barn', 'turn_id': 2}, {'span_start': 192, 'span_end': 215, 'span_text': \"But Cotton wasn't alone\", 'input_text': 'no', 'turn_id': 3}, {'span_start': 258, 'span_end': 315, 'span_text': 'She shared her hay bed with her mommy and 5 other sisters', 'input_text': 'her mommy and 5 other sisters', 'turn_id': 4}, {'span_start': 416, 'span_end': 490, 'span_text': 'The rest of her sisters were all orange with beautiful white tiger stripes', 'input_text': 'orange with white tiger stripes', 'turn_id': 5}, {'span_start': 512, 'span_end': 549, 'span_text': 'Being different made Cotton quite sad', 'input_text': 'no', 'turn_id': 6}, {'span_start': 678, 'span_end': 716, 'span_text': 'she used it to paint herself like them', 'input_text': 'she painted herself', 'turn_id': 7}, {'span_start': 655, 'span_end': 676, 'span_text': \"farmer's orange paint\", 'input_text': \"the farmer's\", 'turn_id': 8}, {'span_start': 718, 'span_end': 777, 'span_text': 'When her mommy and sisters found her they started laughing.', 'input_text': 'they started laughing', 'turn_id': 9}, {'span_start': 1059, 'span_end': 1097, 'span_text': 'dropped her into a big bucket of water', 'input_text': 'dropped her into a big bucket of water', 'turn_id': 10}, {'span_start': 1143, 'span_end': 1171, 'span_text': 'Her sisters licked her face ', 'input_text': 'licked her face', 'turn_id': 11}, {'span_start': 1209, 'span_end': 1244, 'span_text': '\"Don\\'t ever do that again, Cotton!\"', 'input_text': 'no', 'turn_id': 12}], '1': [{'span_start': 68, 'span_end': 74, 'span_text': 'white ', 'input_text': 'white', 'turn_id': 1}, {'span_start': 18, 'span_end': 27, 'span_text': 'in a barn', 'input_text': 'in a barn', 'turn_id': 2}, {'span_start': 202, 'span_end': 215, 'span_text': \" wasn't alone\", 'input_text': 'No', 'turn_id': 3}, {'span_start': 286, 'span_end': 315, 'span_text': 'her mommy and 5 other sisters', 'input_text': 'her mommy and 5 other sisters', 'turn_id': 4}, {'span_start': 449, 'span_end': 456, 'span_text': 'orange ', 'input_text': 'orange', 'turn_id': 5}, {'span_start': 546, 'span_end': 549, 'span_text': 'sad', 'input_text': 'No', 'turn_id': 6}, {'span_start': 693, 'span_end': 716, 'span_text': 'paint herself like them', 'input_text': 'paint herself like them', 'turn_id': 7}, {'span_start': 647, 'span_end': 663, 'span_text': \"the old farmer's\", 'input_text': \"the old farmer's\", 'turn_id': 8}, {'span_start': 866, 'span_end': 882, 'span_text': ' rubbed her face', 'input_text': 'rubbed her face', 'turn_id': 9}, {'span_start': 1071, 'span_end': 1097, 'span_text': 'into a big bucket of water', 'input_text': 'into a big bucket of water', 'turn_id': 10}, {'span_start': 1154, 'span_end': 1170, 'span_text': ' licked her face', 'input_text': 'licked her face', 'turn_id': 11}, {'span_start': 974, 'span_end': 1008, 'span_text': 'never want you to be any other way', 'input_text': 'No', 'turn_id': 12}], '2': [{'span_start': 68, 'span_end': 94, 'span_text': 'white kitten named Cotton.', 'input_text': 'white', 'turn_id': 1}, {'span_start': 17, 'span_end': 94, 'span_text': ' in a barn near a farm house, there lived a little white kitten named Cotton.', 'input_text': 'in a barn near', 'turn_id': 2}, {'span_start': 191, 'span_end': 316, 'span_text': \" But Cotton wasn't alone in her little home above the barn, oh no. She shared her hay bed with her mommy and 5 other sisters.\", 'input_text': 'no', 'turn_id': 3}, {'span_start': 258, 'span_end': 316, 'span_text': 'She shared her hay bed with her mommy and 5 other sisters.', 'input_text': 'her mommy and 5 other sisters', 'turn_id': 4}, {'span_start': 416, 'span_end': 511, 'span_text': \"The rest of her sisters were all orange with beautiful white tiger stripes like Cotton's mommy.\", 'input_text': 'orange', 'turn_id': 5}, {'span_start': 512, 'span_end': 550, 'span_text': 'Being different made Cotton quite sad.', 'input_text': 'no', 'turn_id': 6}, {'span_start': 607, 'span_end': 718, 'span_text': \" So one day, when Cotton found a can of the old farmer's orange paint, she used it to paint herself like them. \", 'input_text': 'paint herself like them', 'turn_id': 7}, {'span_start': 608, 'span_end': 676, 'span_text': \"So one day, when Cotton found a can of the old farmer's orange paint\", 'input_text': \"the farmer's\", 'turn_id': 8}, {'span_start': 718, 'span_end': 778, 'span_text': 'When her mommy and sisters found her they started laughing. ', 'input_text': 'started laughing', 'turn_id': 9}, {'span_start': 1011, 'span_end': 1098, 'span_text': \"And with that, Cotton's mommy picked her up and dropped her into a big bucket of water.\", 'input_text': 'a big bucket of water', 'turn_id': 10}, {'span_start': 1142, 'span_end': 1207, 'span_text': \" Her sisters licked her face until Cotton's fur was all all dry. \", 'input_text': 'licked her face', 'turn_id': 11}, {'span_start': 1209, 'span_end': 1260, 'span_text': '\"Don\\'t ever do that again, Cotton!\" they all cried.', 'input_text': 'no', 'turn_id': 12}]}, 'name': 'mc160.test.41'}\n\n"
    }
   ],
   "source": [
    "print('Processing json...')\n",
    "data = []\n",
    "tot = len(dataset['data'])\n",
    "print(tot)\n",
    "for data_idx in tqdm(range(tot)):\n",
    "    datum = dataset['data'][data_idx]\n",
    "    print(datum)\n",
    "    break"
   ]
  },
  {
   "cell_type": "code",
   "execution_count": 50,
   "metadata": {},
   "outputs": [],
   "source": [
    "def gen_upper_triangle(score_s, score_e, max_len):\n",
    "    batch_size = score_s.shape[0]\n",
    "    context_len = score_s.shape[1]\n",
    "    # batch x context_len x context_len\n",
    "    expand_score = score_s.unsqueeze(2).expand([batch_size, context_len, context_len]) + \\\n",
    "                   score_e.unsqueeze(1).expand([batch_size, context_len, context_len])\n",
    "    # print(expand_score.shape)\n",
    "    score_mask = torch.ones(context_len)\n",
    "    # if use_cuda:\n",
    "    #     score_mask = score_mask.cuda()\n",
    "    score_mask = torch.ger(score_mask, score_mask).triu().tril(max_len - 1)  # 向量间外积\n",
    "    empty_mask = score_mask.eq(0).unsqueeze(0).expand_as(expand_score)\n",
    "    expand_score.data.masked_fill_(empty_mask.data, -float('inf'))\n",
    "    print(expand_score.contiguous().view(batch_size, -1).shape)\n",
    "    return expand_score.contiguous().view(batch_size, -1)"
   ]
  },
  {
   "cell_type": "code",
   "execution_count": 57,
   "metadata": {},
   "outputs": [
    {
     "output_type": "execute_result",
     "data": {
      "text/plain": "tensor([[0.2954, 0.1436, 0.8892, 0.5622, 0.1663, 0.9531, 0.9616, 0.8898],\n        [0.0305, 0.3763, 0.5419, 0.2210, 0.4121, 0.0560, 0.9270, 0.0810],\n        [0.9898, 0.1478, 0.7731, 0.4745, 0.6365, 0.8600, 0.6969, 0.3754],\n        [0.7381, 0.2941, 0.6519, 0.1302, 0.8862, 0.6586, 0.4584, 0.6787]])"
     },
     "metadata": {},
     "execution_count": 57
    }
   ],
   "source": [
    "score_s"
   ]
  },
  {
   "cell_type": "code",
   "execution_count": 58,
   "metadata": {},
   "outputs": [
    {
     "output_type": "execute_result",
     "data": {
      "text/plain": "tensor([[0.9209, 0.4015, 0.8224, 0.4753, 0.5923, 0.6077, 0.5146, 0.2427],\n        [0.1283, 0.6464, 0.1784, 0.4098, 0.3085, 0.1450, 0.6548, 0.7865],\n        [0.5866, 0.2721, 0.1951, 0.6908, 0.9993, 0.7091, 0.8073, 0.1631],\n        [0.8853, 0.3352, 0.1337, 0.7687, 0.0819, 0.0762, 0.3366, 0.6507]])"
     },
     "metadata": {},
     "execution_count": 58
    }
   ],
   "source": [
    "score_e"
   ]
  },
  {
   "cell_type": "code",
   "execution_count": 59,
   "metadata": {},
   "outputs": [
    {
     "output_type": "execute_result",
     "data": {
      "text/plain": "tensor([[[1.2163, 0.6970, 1.1178, 0.7707, 0.8877, 0.9031, 0.8100, 0.5381],\n         [1.0645, 0.5451, 0.9660, 0.6189, 0.7359, 0.7513, 0.6582, 0.3863],\n         [1.8100, 1.2907, 1.7115, 1.3645, 1.4815, 1.4969, 1.4038, 1.1319],\n         [1.4831, 0.9638, 1.3846, 1.0375, 1.1545, 1.1699, 1.0768, 0.8049],\n         [1.0872, 0.5679, 0.9887, 0.6416, 0.7586, 0.7740, 0.6809, 0.4091],\n         [1.8740, 1.3546, 1.7755, 1.4284, 1.5454, 1.5608, 1.4677, 1.1958],\n         [1.8824, 1.3631, 1.7839, 1.4369, 1.5539, 1.5693, 1.4762, 1.2043],\n         [1.8107, 1.2914, 1.7122, 1.3651, 1.4822, 1.4975, 1.4044, 1.1326]],\n\n        [[0.1588, 0.6769, 0.2088, 0.4403, 0.3390, 0.1755, 0.6853, 0.8170],\n         [0.5046, 1.0227, 0.5546, 0.7861, 0.6848, 0.5213, 1.0311, 1.1628],\n         [0.6703, 1.1884, 0.7203, 0.9518, 0.8505, 0.6870, 1.1968, 1.3285],\n         [0.3493, 0.8674, 0.3994, 0.6308, 0.5295, 0.3660, 0.8758, 1.0075],\n         [0.5404, 1.0585, 0.5905, 0.8219, 0.7206, 0.5571, 1.0669, 1.1986],\n         [0.1844, 0.7025, 0.2344, 0.4659, 0.3646, 0.2011, 0.7109, 0.8426],\n         [1.0554, 1.5734, 1.1054, 1.3369, 1.2355, 1.0721, 1.5819, 1.7136],\n         [0.2093, 0.7274, 0.2593, 0.4908, 0.3895, 0.2260, 0.7358, 0.8675]],\n\n        [[1.5764, 1.2619, 1.1849, 1.6807, 1.9892, 1.6989, 1.7971, 1.1529],\n         [0.7344, 0.4198, 0.3428, 0.8386, 1.1471, 0.8568, 0.9551, 0.3109],\n         [1.3597, 1.0452, 0.9682, 1.4639, 1.7724, 1.4822, 1.5804, 0.9362],\n         [1.0611, 0.7466, 0.6696, 1.1653, 1.4738, 1.1836, 1.2818, 0.6376],\n         [1.2231, 0.9085, 0.8315, 1.3273, 1.6358, 1.3455, 1.4438, 0.7996],\n         [1.4466, 1.1320, 1.0550, 1.5508, 1.8593, 1.5690, 1.6672, 1.0231],\n         [1.2835, 0.9690, 0.8920, 1.3877, 1.6962, 1.4060, 1.5042, 0.8600],\n         [0.9620, 0.6475, 0.5705, 1.0663, 1.3748, 1.0845, 1.1827, 0.5385]],\n\n        [[1.6235, 1.0734, 0.8718, 1.5068, 0.8200, 0.8143, 1.0748, 1.3889],\n         [1.1794, 0.6293, 0.4278, 1.0628, 0.3760, 0.3703, 0.6308, 0.9449],\n         [1.5372, 0.9871, 0.7856, 1.4205, 0.7338, 0.7280, 0.9885, 1.3026],\n         [1.0156, 0.4655, 0.2639, 0.8989, 0.2121, 0.2064, 0.4669, 0.7810],\n         [1.7716, 1.2215, 1.0199, 1.6549, 0.9681, 0.9624, 1.2229, 1.5370],\n         [1.5439, 0.9938, 0.7923, 1.4273, 0.7405, 0.7348, 0.9953, 1.3093],\n         [1.3437, 0.7936, 0.5921, 1.2271, 0.5403, 0.5346, 0.7950, 1.1091],\n         [1.5640, 1.0139, 0.8124, 1.4474, 0.7606, 0.7549, 1.0153, 1.3294]]])"
     },
     "metadata": {},
     "execution_count": 59
    }
   ],
   "source": [
    "expand_score"
   ]
  },
  {
   "cell_type": "code",
   "execution_count": 51,
   "metadata": {
    "tags": []
   },
   "outputs": [
    {
     "output_type": "stream",
     "name": "stdout",
     "text": "torch.Size([4, 64])\n"
    },
    {
     "output_type": "execute_result",
     "data": {
      "text/plain": "tensor([[1.2163, 0.6970, 1.1178, 0.7707, 0.8877, 0.9031, 0.8100, 0.5381,   -inf,\n         0.5451, 0.9660, 0.6189, 0.7359, 0.7513, 0.6582, 0.3863,   -inf,   -inf,\n         1.7115, 1.3645, 1.4815, 1.4969, 1.4038, 1.1319,   -inf,   -inf,   -inf,\n         1.0375, 1.1545, 1.1699, 1.0768, 0.8049,   -inf,   -inf,   -inf,   -inf,\n         0.7586, 0.7740, 0.6809, 0.4091,   -inf,   -inf,   -inf,   -inf,   -inf,\n         1.5608, 1.4677, 1.1958,   -inf,   -inf,   -inf,   -inf,   -inf,   -inf,\n         1.4762, 1.2043,   -inf,   -inf,   -inf,   -inf,   -inf,   -inf,   -inf,\n         1.1326],\n        [0.1588, 0.6769, 0.2088, 0.4403, 0.3390, 0.1755, 0.6853, 0.8170,   -inf,\n         1.0227, 0.5546, 0.7861, 0.6848, 0.5213, 1.0311, 1.1628,   -inf,   -inf,\n         0.7203, 0.9518, 0.8505, 0.6870, 1.1968, 1.3285,   -inf,   -inf,   -inf,\n         0.6308, 0.5295, 0.3660, 0.8758, 1.0075,   -inf,   -inf,   -inf,   -inf,\n         0.7206, 0.5571, 1.0669, 1.1986,   -inf,   -inf,   -inf,   -inf,   -inf,\n         0.2011, 0.7109, 0.8426,   -inf,   -inf,   -inf,   -inf,   -inf,   -inf,\n         1.5819, 1.7136,   -inf,   -inf,   -inf,   -inf,   -inf,   -inf,   -inf,\n         0.8675],\n        [1.5764, 1.2619, 1.1849, 1.6807, 1.9892, 1.6989, 1.7971, 1.1529,   -inf,\n         0.4198, 0.3428, 0.8386, 1.1471, 0.8568, 0.9551, 0.3109,   -inf,   -inf,\n         0.9682, 1.4639, 1.7724, 1.4822, 1.5804, 0.9362,   -inf,   -inf,   -inf,\n         1.1653, 1.4738, 1.1836, 1.2818, 0.6376,   -inf,   -inf,   -inf,   -inf,\n         1.6358, 1.3455, 1.4438, 0.7996,   -inf,   -inf,   -inf,   -inf,   -inf,\n         1.5690, 1.6672, 1.0231,   -inf,   -inf,   -inf,   -inf,   -inf,   -inf,\n         1.5042, 0.8600,   -inf,   -inf,   -inf,   -inf,   -inf,   -inf,   -inf,\n         0.5385],\n        [1.6235, 1.0734, 0.8718, 1.5068, 0.8200, 0.8143, 1.0748, 1.3889,   -inf,\n         0.6293, 0.4278, 1.0628, 0.3760, 0.3703, 0.6308, 0.9449,   -inf,   -inf,\n         0.7856, 1.4205, 0.7338, 0.7280, 0.9885, 1.3026,   -inf,   -inf,   -inf,\n         0.8989, 0.2121, 0.2064, 0.4669, 0.7810,   -inf,   -inf,   -inf,   -inf,\n         0.9681, 0.9624, 1.2229, 1.5370,   -inf,   -inf,   -inf,   -inf,   -inf,\n         0.7348, 0.9953, 1.3093,   -inf,   -inf,   -inf,   -inf,   -inf,   -inf,\n         0.7950, 1.1091,   -inf,   -inf,   -inf,   -inf,   -inf,   -inf,   -inf,\n         1.3294]])"
     },
     "metadata": {},
     "execution_count": 51
    }
   ],
   "source": [
    "gen_upper_triangle(score_s, score_e, 8)"
   ]
  },
  {
   "cell_type": "code",
   "execution_count": 8,
   "metadata": {},
   "outputs": [],
   "source": [
    "batch_size = 4\n",
    "context_len = 8"
   ]
  },
  {
   "cell_type": "code",
   "execution_count": 33,
   "metadata": {},
   "outputs": [
    {
     "output_type": "execute_result",
     "data": {
      "text/plain": "torch.Size([4, 8, 8])"
     },
     "metadata": {},
     "execution_count": 33
    }
   ],
   "source": [
    "expand_score.shape"
   ]
  },
  {
   "cell_type": "code",
   "execution_count": 37,
   "metadata": {},
   "outputs": [
    {
     "output_type": "execute_result",
     "data": {
      "text/plain": "int"
     },
     "metadata": {},
     "execution_count": 37
    }
   ],
   "source": [
    "type(expand_score.shape[0])"
   ]
  },
  {
   "cell_type": "code",
   "execution_count": 38,
   "metadata": {},
   "outputs": [
    {
     "output_type": "execute_result",
     "data": {
      "text/plain": "int"
     },
     "metadata": {},
     "execution_count": 38
    }
   ],
   "source": [
    "type(expand_score.size(0))"
   ]
  },
  {
   "cell_type": "code",
   "execution_count": null,
   "metadata": {},
   "outputs": [],
   "source": []
  },
  {
   "cell_type": "code",
   "execution_count": 32,
   "metadata": {},
   "outputs": [
    {
     "output_type": "execute_result",
     "data": {
      "text/plain": "torch.Size([4, 64])"
     },
     "metadata": {},
     "execution_count": 32
    }
   ],
   "source": [
    "expand_score.contiguous().view(batch_size, -1).shape"
   ]
  },
  {
   "cell_type": "code",
   "execution_count": null,
   "metadata": {},
   "outputs": [],
   "source": []
  },
  {
   "cell_type": "code",
   "execution_count": 9,
   "metadata": {},
   "outputs": [
    {
     "output_type": "execute_result",
     "data": {
      "text/plain": "tensor([1., 1., 1., 1., 1., 1., 1., 1.])"
     },
     "metadata": {},
     "execution_count": 9
    }
   ],
   "source": [
    "score_mask = torch.ones(context_len); score_mask"
   ]
  },
  {
   "cell_type": "code",
   "execution_count": 10,
   "metadata": {},
   "outputs": [
    {
     "output_type": "execute_result",
     "data": {
      "text/plain": "tensor([[1., 1., 1., 1., 1., 1., 1., 1.],\n        [1., 1., 1., 1., 1., 1., 1., 1.],\n        [1., 1., 1., 1., 1., 1., 1., 1.],\n        [1., 1., 1., 1., 1., 1., 1., 1.],\n        [1., 1., 1., 1., 1., 1., 1., 1.],\n        [1., 1., 1., 1., 1., 1., 1., 1.],\n        [1., 1., 1., 1., 1., 1., 1., 1.],\n        [1., 1., 1., 1., 1., 1., 1., 1.]])"
     },
     "metadata": {},
     "execution_count": 10
    }
   ],
   "source": [
    "score_mask = torch.ger(score_mask, score_mask); score_mask"
   ]
  },
  {
   "cell_type": "code",
   "execution_count": 11,
   "metadata": {},
   "outputs": [
    {
     "output_type": "execute_result",
     "data": {
      "text/plain": "tensor([[1., 1., 1., 1., 1., 1., 1., 1.],\n        [0., 1., 1., 1., 1., 1., 1., 1.],\n        [0., 0., 1., 1., 1., 1., 1., 1.],\n        [0., 0., 0., 1., 1., 1., 1., 1.],\n        [0., 0., 0., 0., 1., 1., 1., 1.],\n        [0., 0., 0., 0., 0., 1., 1., 1.],\n        [0., 0., 0., 0., 0., 0., 1., 1.],\n        [0., 0., 0., 0., 0., 0., 0., 1.]])"
     },
     "metadata": {},
     "execution_count": 11
    }
   ],
   "source": [
    "score_mask.triu().tril(7)"
   ]
  },
  {
   "cell_type": "code",
   "execution_count": 24,
   "metadata": {},
   "outputs": [
    {
     "output_type": "execute_result",
     "data": {
      "text/plain": "tensor([[[0, 0, 0, 0, 0, 0, 0, 0],\n         [0, 0, 0, 0, 0, 0, 0, 0],\n         [0, 0, 0, 0, 0, 0, 0, 0],\n         [0, 0, 0, 0, 0, 0, 0, 0],\n         [0, 0, 0, 0, 0, 0, 0, 0],\n         [0, 0, 0, 0, 0, 0, 0, 0],\n         [0, 0, 0, 0, 0, 0, 0, 0],\n         [0, 0, 0, 0, 0, 0, 0, 0]],\n\n        [[0, 0, 0, 0, 0, 0, 0, 0],\n         [0, 0, 0, 0, 0, 0, 0, 0],\n         [0, 0, 0, 0, 0, 0, 0, 0],\n         [0, 0, 0, 0, 0, 0, 0, 0],\n         [0, 0, 0, 0, 0, 0, 0, 0],\n         [0, 0, 0, 0, 0, 0, 0, 0],\n         [0, 0, 0, 0, 0, 0, 0, 0],\n         [0, 0, 0, 0, 0, 0, 0, 0]],\n\n        [[0, 0, 0, 0, 0, 0, 0, 0],\n         [0, 0, 0, 0, 0, 0, 0, 0],\n         [0, 0, 0, 0, 0, 0, 0, 0],\n         [0, 0, 0, 0, 0, 0, 0, 0],\n         [0, 0, 0, 0, 0, 0, 0, 0],\n         [0, 0, 0, 0, 0, 0, 0, 0],\n         [0, 0, 0, 0, 0, 0, 0, 0],\n         [0, 0, 0, 0, 0, 0, 0, 0]],\n\n        [[0, 0, 0, 0, 0, 0, 0, 0],\n         [0, 0, 0, 0, 0, 0, 0, 0],\n         [0, 0, 0, 0, 0, 0, 0, 0],\n         [0, 0, 0, 0, 0, 0, 0, 0],\n         [0, 0, 0, 0, 0, 0, 0, 0],\n         [0, 0, 0, 0, 0, 0, 0, 0],\n         [0, 0, 0, 0, 0, 0, 0, 0],\n         [0, 0, 0, 0, 0, 0, 0, 0]]], dtype=torch.uint8)"
     },
     "metadata": {},
     "execution_count": 24
    }
   ],
   "source": [
    "empty_mask = score_mask.eq(0).unsqueeze(0).expand_as(expand_score); empty_mask"
   ]
  },
  {
   "cell_type": "code",
   "execution_count": 25,
   "metadata": {},
   "outputs": [
    {
     "output_type": "execute_result",
     "data": {
      "text/plain": "tensor([[[1.2163, 0.6970, 1.1178, 0.7707, 0.8877, 0.9031, 0.8100, 0.5381],\n         [1.0645, 0.5451, 0.9660, 0.6189, 0.7359, 0.7513, 0.6582, 0.3863],\n         [1.8100, 1.2907, 1.7115, 1.3645, 1.4815, 1.4969, 1.4038, 1.1319],\n         [1.4831, 0.9638, 1.3846, 1.0375, 1.1545, 1.1699, 1.0768, 0.8049],\n         [1.0872, 0.5679, 0.9887, 0.6416, 0.7586, 0.7740, 0.6809, 0.4091],\n         [1.8740, 1.3546, 1.7755, 1.4284, 1.5454, 1.5608, 1.4677, 1.1958],\n         [1.8824, 1.3631, 1.7839, 1.4369, 1.5539, 1.5693, 1.4762, 1.2043],\n         [1.8107, 1.2914, 1.7122, 1.3651, 1.4822, 1.4975, 1.4044, 1.1326]],\n\n        [[0.1588, 0.6769, 0.2088, 0.4403, 0.3390, 0.1755, 0.6853, 0.8170],\n         [0.5046, 1.0227, 0.5546, 0.7861, 0.6848, 0.5213, 1.0311, 1.1628],\n         [0.6703, 1.1884, 0.7203, 0.9518, 0.8505, 0.6870, 1.1968, 1.3285],\n         [0.3493, 0.8674, 0.3994, 0.6308, 0.5295, 0.3660, 0.8758, 1.0075],\n         [0.5404, 1.0585, 0.5905, 0.8219, 0.7206, 0.5571, 1.0669, 1.1986],\n         [0.1844, 0.7025, 0.2344, 0.4659, 0.3646, 0.2011, 0.7109, 0.8426],\n         [1.0554, 1.5734, 1.1054, 1.3369, 1.2355, 1.0721, 1.5819, 1.7136],\n         [0.2093, 0.7274, 0.2593, 0.4908, 0.3895, 0.2260, 0.7358, 0.8675]],\n\n        [[1.5764, 1.2619, 1.1849, 1.6807, 1.9892, 1.6989, 1.7971, 1.1529],\n         [0.7344, 0.4198, 0.3428, 0.8386, 1.1471, 0.8568, 0.9551, 0.3109],\n         [1.3597, 1.0452, 0.9682, 1.4639, 1.7724, 1.4822, 1.5804, 0.9362],\n         [1.0611, 0.7466, 0.6696, 1.1653, 1.4738, 1.1836, 1.2818, 0.6376],\n         [1.2231, 0.9085, 0.8315, 1.3273, 1.6358, 1.3455, 1.4438, 0.7996],\n         [1.4466, 1.1320, 1.0550, 1.5508, 1.8593, 1.5690, 1.6672, 1.0231],\n         [1.2835, 0.9690, 0.8920, 1.3877, 1.6962, 1.4060, 1.5042, 0.8600],\n         [0.9620, 0.6475, 0.5705, 1.0663, 1.3748, 1.0845, 1.1827, 0.5385]],\n\n        [[1.6235, 1.0734, 0.8718, 1.5068, 0.8200, 0.8143, 1.0748, 1.3889],\n         [1.1794, 0.6293, 0.4278, 1.0628, 0.3760, 0.3703, 0.6308, 0.9449],\n         [1.5372, 0.9871, 0.7856, 1.4205, 0.7338, 0.7280, 0.9885, 1.3026],\n         [1.0156, 0.4655, 0.2639, 0.8989, 0.2121, 0.2064, 0.4669, 0.7810],\n         [1.7716, 1.2215, 1.0199, 1.6549, 0.9681, 0.9624, 1.2229, 1.5370],\n         [1.5439, 0.9938, 0.7923, 1.4273, 0.7405, 0.7348, 0.9953, 1.3093],\n         [1.3437, 0.7936, 0.5921, 1.2271, 0.5403, 0.5346, 0.7950, 1.1091],\n         [1.5640, 1.0139, 0.8124, 1.4474, 0.7606, 0.7549, 1.0153, 1.3294]]])"
     },
     "metadata": {},
     "execution_count": 25
    }
   ],
   "source": [
    "expand_score"
   ]
  },
  {
   "cell_type": "code",
   "execution_count": 26,
   "metadata": {},
   "outputs": [
    {
     "output_type": "execute_result",
     "data": {
      "text/plain": "tensor([[[1.2163, 0.6970, 1.1178, 0.7707, 0.8877, 0.9031, 0.8100, 0.5381],\n         [1.0645, 0.5451, 0.9660, 0.6189, 0.7359, 0.7513, 0.6582, 0.3863],\n         [1.8100, 1.2907, 1.7115, 1.3645, 1.4815, 1.4969, 1.4038, 1.1319],\n         [1.4831, 0.9638, 1.3846, 1.0375, 1.1545, 1.1699, 1.0768, 0.8049],\n         [1.0872, 0.5679, 0.9887, 0.6416, 0.7586, 0.7740, 0.6809, 0.4091],\n         [1.8740, 1.3546, 1.7755, 1.4284, 1.5454, 1.5608, 1.4677, 1.1958],\n         [1.8824, 1.3631, 1.7839, 1.4369, 1.5539, 1.5693, 1.4762, 1.2043],\n         [1.8107, 1.2914, 1.7122, 1.3651, 1.4822, 1.4975, 1.4044, 1.1326]],\n\n        [[0.1588, 0.6769, 0.2088, 0.4403, 0.3390, 0.1755, 0.6853, 0.8170],\n         [0.5046, 1.0227, 0.5546, 0.7861, 0.6848, 0.5213, 1.0311, 1.1628],\n         [0.6703, 1.1884, 0.7203, 0.9518, 0.8505, 0.6870, 1.1968, 1.3285],\n         [0.3493, 0.8674, 0.3994, 0.6308, 0.5295, 0.3660, 0.8758, 1.0075],\n         [0.5404, 1.0585, 0.5905, 0.8219, 0.7206, 0.5571, 1.0669, 1.1986],\n         [0.1844, 0.7025, 0.2344, 0.4659, 0.3646, 0.2011, 0.7109, 0.8426],\n         [1.0554, 1.5734, 1.1054, 1.3369, 1.2355, 1.0721, 1.5819, 1.7136],\n         [0.2093, 0.7274, 0.2593, 0.4908, 0.3895, 0.2260, 0.7358, 0.8675]],\n\n        [[1.5764, 1.2619, 1.1849, 1.6807, 1.9892, 1.6989, 1.7971, 1.1529],\n         [0.7344, 0.4198, 0.3428, 0.8386, 1.1471, 0.8568, 0.9551, 0.3109],\n         [1.3597, 1.0452, 0.9682, 1.4639, 1.7724, 1.4822, 1.5804, 0.9362],\n         [1.0611, 0.7466, 0.6696, 1.1653, 1.4738, 1.1836, 1.2818, 0.6376],\n         [1.2231, 0.9085, 0.8315, 1.3273, 1.6358, 1.3455, 1.4438, 0.7996],\n         [1.4466, 1.1320, 1.0550, 1.5508, 1.8593, 1.5690, 1.6672, 1.0231],\n         [1.2835, 0.9690, 0.8920, 1.3877, 1.6962, 1.4060, 1.5042, 0.8600],\n         [0.9620, 0.6475, 0.5705, 1.0663, 1.3748, 1.0845, 1.1827, 0.5385]],\n\n        [[1.6235, 1.0734, 0.8718, 1.5068, 0.8200, 0.8143, 1.0748, 1.3889],\n         [1.1794, 0.6293, 0.4278, 1.0628, 0.3760, 0.3703, 0.6308, 0.9449],\n         [1.5372, 0.9871, 0.7856, 1.4205, 0.7338, 0.7280, 0.9885, 1.3026],\n         [1.0156, 0.4655, 0.2639, 0.8989, 0.2121, 0.2064, 0.4669, 0.7810],\n         [1.7716, 1.2215, 1.0199, 1.6549, 0.9681, 0.9624, 1.2229, 1.5370],\n         [1.5439, 0.9938, 0.7923, 1.4273, 0.7405, 0.7348, 0.9953, 1.3093],\n         [1.3437, 0.7936, 0.5921, 1.2271, 0.5403, 0.5346, 0.7950, 1.1091],\n         [1.5640, 1.0139, 0.8124, 1.4474, 0.7606, 0.7549, 1.0153, 1.3294]]])"
     },
     "metadata": {},
     "execution_count": 26
    }
   ],
   "source": [
    "expand_score.data.masked_fill_(empty_mask.data, -float('inf'))"
   ]
  },
  {
   "cell_type": "code",
   "execution_count": 58,
   "metadata": {},
   "outputs": [
    {
     "output_type": "execute_result",
     "data": {
      "text/plain": "tensor([[1., 1., 1., 1., 1., 1., 1., 1.],\n        [0., 1., 1., 1., 1., 1., 1., 1.],\n        [0., 0., 1., 1., 1., 1., 1., 1.],\n        [0., 0., 0., 1., 1., 1., 1., 1.],\n        [0., 0., 0., 0., 1., 1., 1., 1.],\n        [0., 0., 0., 0., 0., 1., 1., 1.],\n        [0., 0., 0., 0., 0., 0., 1., 1.],\n        [0., 0., 0., 0., 0., 0., 0., 1.]])"
     },
     "metadata": {},
     "execution_count": 58
    }
   ],
   "source": [
    "score_mask.triu()"
   ]
  },
  {
   "cell_type": "code",
   "execution_count": 50,
   "metadata": {},
   "outputs": [
    {
     "output_type": "execute_result",
     "data": {
      "text/plain": "tensor([[1., 1., 1., 1., 1., 1., 1., 1.],\n        [0., 1., 1., 1., 1., 1., 1., 1.],\n        [0., 0., 1., 1., 1., 1., 1., 1.],\n        [0., 0., 0., 1., 1., 1., 1., 1.],\n        [0., 0., 0., 0., 1., 1., 1., 1.],\n        [0., 0., 0., 0., 0., 1., 1., 1.],\n        [0., 0., 0., 0., 0., 0., 1., 1.],\n        [0., 0., 0., 0., 0., 0., 0., 1.]])"
     },
     "metadata": {},
     "execution_count": 50
    }
   ],
   "source": [
    "score_mask.triu().tril(7)"
   ]
  },
  {
   "cell_type": "code",
   "execution_count": 13,
   "metadata": {},
   "outputs": [
    {
     "output_type": "execute_result",
     "data": {
      "text/plain": "tensor([[0.2954, 0.1436, 0.8892, 0.5622, 0.1663, 0.9531, 0.9616, 0.8898],\n        [0.0305, 0.3763, 0.5419, 0.2210, 0.4121, 0.0560, 0.9270, 0.0810],\n        [0.9898, 0.1478, 0.7731, 0.4745, 0.6365, 0.8600, 0.6969, 0.3754],\n        [0.7381, 0.2941, 0.6519, 0.1302, 0.8862, 0.6586, 0.4584, 0.6787]])"
     },
     "metadata": {},
     "execution_count": 13
    }
   ],
   "source": [
    "score_s = torch.rand(size=(batch_size, context_len)); score_s"
   ]
  },
  {
   "cell_type": "code",
   "execution_count": 14,
   "metadata": {},
   "outputs": [
    {
     "output_type": "execute_result",
     "data": {
      "text/plain": "torch.Size([4, 8])"
     },
     "metadata": {},
     "execution_count": 14
    }
   ],
   "source": [
    "score_s.shape"
   ]
  },
  {
   "cell_type": "code",
   "execution_count": 15,
   "metadata": {},
   "outputs": [
    {
     "output_type": "execute_result",
     "data": {
      "text/plain": "tensor([[0.9209, 0.4015, 0.8224, 0.4753, 0.5923, 0.6077, 0.5146, 0.2427],\n        [0.1283, 0.6464, 0.1784, 0.4098, 0.3085, 0.1450, 0.6548, 0.7865],\n        [0.5866, 0.2721, 0.1951, 0.6908, 0.9993, 0.7091, 0.8073, 0.1631],\n        [0.8853, 0.3352, 0.1337, 0.7687, 0.0819, 0.0762, 0.3366, 0.6507]])"
     },
     "metadata": {},
     "execution_count": 15
    }
   ],
   "source": [
    "score_e = torch.rand(size=(batch_size, context_len)); score_e"
   ]
  },
  {
   "cell_type": "code",
   "execution_count": 16,
   "metadata": {},
   "outputs": [
    {
     "output_type": "execute_result",
     "data": {
      "text/plain": "torch.Size([4, 8])"
     },
     "metadata": {},
     "execution_count": 16
    }
   ],
   "source": [
    "score_e.shape"
   ]
  },
  {
   "cell_type": "code",
   "execution_count": 17,
   "metadata": {},
   "outputs": [
    {
     "output_type": "execute_result",
     "data": {
      "text/plain": "torch.Size([4, 8, 1])"
     },
     "metadata": {},
     "execution_count": 17
    }
   ],
   "source": [
    "score_s.unsqueeze(2).shape"
   ]
  },
  {
   "cell_type": "code",
   "execution_count": 18,
   "metadata": {},
   "outputs": [
    {
     "output_type": "execute_result",
     "data": {
      "text/plain": "torch.Size([4, 8, 8])"
     },
     "metadata": {},
     "execution_count": 18
    }
   ],
   "source": [
    "test_s = score_s.unsqueeze(2).expand([batch_size, context_len, context_len]); test_s.shape"
   ]
  },
  {
   "cell_type": "code",
   "execution_count": 19,
   "metadata": {},
   "outputs": [
    {
     "output_type": "execute_result",
     "data": {
      "text/plain": "torch.Size([4, 1, 8])"
     },
     "metadata": {},
     "execution_count": 19
    }
   ],
   "source": [
    "score_e.unsqueeze(1).shape"
   ]
  },
  {
   "cell_type": "code",
   "execution_count": 20,
   "metadata": {},
   "outputs": [
    {
     "output_type": "execute_result",
     "data": {
      "text/plain": "torch.Size([4, 8, 8])"
     },
     "metadata": {},
     "execution_count": 20
    }
   ],
   "source": [
    "test_e = score_e.unsqueeze(1).expand([batch_size, context_len, context_len]); test_e.shape"
   ]
  },
  {
   "cell_type": "code",
   "execution_count": 21,
   "metadata": {},
   "outputs": [
    {
     "output_type": "execute_result",
     "data": {
      "text/plain": "torch.Size([4, 8, 8])"
     },
     "metadata": {},
     "execution_count": 21
    }
   ],
   "source": [
    "expand_score = test_s + test_e; expand_score.shape"
   ]
  },
  {
   "cell_type": "code",
   "execution_count": 22,
   "metadata": {},
   "outputs": [
    {
     "output_type": "execute_result",
     "data": {
      "text/plain": "tensor([[[0.2954],\n         [0.1436],\n         [0.8892],\n         [0.5622],\n         [0.1663],\n         [0.9531],\n         [0.9616],\n         [0.8898]],\n\n        [[0.0305],\n         [0.3763],\n         [0.5419],\n         [0.2210],\n         [0.4121],\n         [0.0560],\n         [0.9270],\n         [0.0810]],\n\n        [[0.9898],\n         [0.1478],\n         [0.7731],\n         [0.4745],\n         [0.6365],\n         [0.8600],\n         [0.6969],\n         [0.3754]],\n\n        [[0.7381],\n         [0.2941],\n         [0.6519],\n         [0.1302],\n         [0.8862],\n         [0.6586],\n         [0.4584],\n         [0.6787]]])"
     },
     "metadata": {},
     "execution_count": 22
    }
   ],
   "source": [
    "score_s.unsqueeze(2)"
   ]
  },
  {
   "cell_type": "code",
   "execution_count": 23,
   "metadata": {},
   "outputs": [
    {
     "output_type": "execute_result",
     "data": {
      "text/plain": "tensor([[[0.2954, 0.2954, 0.2954, 0.2954, 0.2954, 0.2954, 0.2954, 0.2954],\n         [0.1436, 0.1436, 0.1436, 0.1436, 0.1436, 0.1436, 0.1436, 0.1436],\n         [0.8892, 0.8892, 0.8892, 0.8892, 0.8892, 0.8892, 0.8892, 0.8892],\n         [0.5622, 0.5622, 0.5622, 0.5622, 0.5622, 0.5622, 0.5622, 0.5622],\n         [0.1663, 0.1663, 0.1663, 0.1663, 0.1663, 0.1663, 0.1663, 0.1663],\n         [0.9531, 0.9531, 0.9531, 0.9531, 0.9531, 0.9531, 0.9531, 0.9531],\n         [0.9616, 0.9616, 0.9616, 0.9616, 0.9616, 0.9616, 0.9616, 0.9616],\n         [0.8898, 0.8898, 0.8898, 0.8898, 0.8898, 0.8898, 0.8898, 0.8898]],\n\n        [[0.0305, 0.0305, 0.0305, 0.0305, 0.0305, 0.0305, 0.0305, 0.0305],\n         [0.3763, 0.3763, 0.3763, 0.3763, 0.3763, 0.3763, 0.3763, 0.3763],\n         [0.5419, 0.5419, 0.5419, 0.5419, 0.5419, 0.5419, 0.5419, 0.5419],\n         [0.2210, 0.2210, 0.2210, 0.2210, 0.2210, 0.2210, 0.2210, 0.2210],\n         [0.4121, 0.4121, 0.4121, 0.4121, 0.4121, 0.4121, 0.4121, 0.4121],\n         [0.0560, 0.0560, 0.0560, 0.0560, 0.0560, 0.0560, 0.0560, 0.0560],\n         [0.9270, 0.9270, 0.9270, 0.9270, 0.9270, 0.9270, 0.9270, 0.9270],\n         [0.0810, 0.0810, 0.0810, 0.0810, 0.0810, 0.0810, 0.0810, 0.0810]],\n\n        [[0.9898, 0.9898, 0.9898, 0.9898, 0.9898, 0.9898, 0.9898, 0.9898],\n         [0.1478, 0.1478, 0.1478, 0.1478, 0.1478, 0.1478, 0.1478, 0.1478],\n         [0.7731, 0.7731, 0.7731, 0.7731, 0.7731, 0.7731, 0.7731, 0.7731],\n         [0.4745, 0.4745, 0.4745, 0.4745, 0.4745, 0.4745, 0.4745, 0.4745],\n         [0.6365, 0.6365, 0.6365, 0.6365, 0.6365, 0.6365, 0.6365, 0.6365],\n         [0.8600, 0.8600, 0.8600, 0.8600, 0.8600, 0.8600, 0.8600, 0.8600],\n         [0.6969, 0.6969, 0.6969, 0.6969, 0.6969, 0.6969, 0.6969, 0.6969],\n         [0.3754, 0.3754, 0.3754, 0.3754, 0.3754, 0.3754, 0.3754, 0.3754]],\n\n        [[0.7381, 0.7381, 0.7381, 0.7381, 0.7381, 0.7381, 0.7381, 0.7381],\n         [0.2941, 0.2941, 0.2941, 0.2941, 0.2941, 0.2941, 0.2941, 0.2941],\n         [0.6519, 0.6519, 0.6519, 0.6519, 0.6519, 0.6519, 0.6519, 0.6519],\n         [0.1302, 0.1302, 0.1302, 0.1302, 0.1302, 0.1302, 0.1302, 0.1302],\n         [0.8862, 0.8862, 0.8862, 0.8862, 0.8862, 0.8862, 0.8862, 0.8862],\n         [0.6586, 0.6586, 0.6586, 0.6586, 0.6586, 0.6586, 0.6586, 0.6586],\n         [0.4584, 0.4584, 0.4584, 0.4584, 0.4584, 0.4584, 0.4584, 0.4584],\n         [0.6787, 0.6787, 0.6787, 0.6787, 0.6787, 0.6787, 0.6787, 0.6787]]])"
     },
     "metadata": {},
     "execution_count": 23
    }
   ],
   "source": [
    "test_s"
   ]
  },
  {
   "cell_type": "code",
   "execution_count": 55,
   "metadata": {},
   "outputs": [
    {
     "output_type": "execute_result",
     "data": {
      "text/plain": "3.0303030303030303"
     },
     "metadata": {},
     "execution_count": 55
    }
   ],
   "source": [
    "100/33"
   ]
  },
  {
   "cell_type": "code",
   "execution_count": 56,
   "metadata": {},
   "outputs": [
    {
     "output_type": "execute_result",
     "data": {
      "text/plain": "1"
     },
     "metadata": {},
     "execution_count": 56
    }
   ],
   "source": [
    "100%33"
   ]
  },
  {
   "cell_type": "code",
   "execution_count": null,
   "metadata": {},
   "outputs": [],
   "source": []
  },
  {
   "cell_type": "code",
   "execution_count": null,
   "metadata": {},
   "outputs": [],
   "source": []
  },
  {
   "cell_type": "code",
   "execution_count": null,
   "metadata": {},
   "outputs": [],
   "source": []
  },
  {
   "cell_type": "code",
   "execution_count": null,
   "metadata": {},
   "outputs": [],
   "source": []
  },
  {
   "cell_type": "code",
   "execution_count": null,
   "metadata": {},
   "outputs": [],
   "source": []
  },
  {
   "cell_type": "code",
   "execution_count": null,
   "metadata": {},
   "outputs": [],
   "source": []
  },
  {
   "cell_type": "code",
   "execution_count": null,
   "metadata": {},
   "outputs": [],
   "source": []
  },
  {
   "cell_type": "code",
   "execution_count": null,
   "metadata": {},
   "outputs": [],
   "source": []
  }
 ]
}